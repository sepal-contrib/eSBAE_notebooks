{
 "cells": [
  {
   "cell_type": "markdown",
   "id": "6c7371f1-3f2d-4a28-b1ab-4286650b3521",
   "metadata": {},
   "source": [
    "<font face='Calibri' size='2'> <i>eSBAE - Notebook Series - Part 6, version 0.1, July 2023. Andreas Vollrath, UN-Food and Agricultural Organization, Rome</i>\n",
    "</font>"
   ]
  },
  {
   "cell_type": "markdown",
   "id": "d64c06bd-2f7c-4b52-8fad-791678d56240",
   "metadata": {
    "tags": []
   },
   "source": [
    "# --- Beta verision - Under Construction---\n",
    "\n",
    "![title](images/header.png)\n",
    "\n",
    "\n",
    "# 6 - Probability Classification\n",
    "### Classifying potential change based on available training data\n",
    "-------\n",
    "\n",
    "This notebook takes you through the process of classifying change.\n",
    "\n",
    "**This notebook runs best on a r16 instance**"
   ]
  },
  {
   "cell_type": "code",
   "execution_count": null,
   "id": "836300b1-2559-40d4-96a9-e9e0ec1270d5",
   "metadata": {
    "tags": []
   },
   "outputs": [],
   "source": [
    "import ee\n",
    "ee.Initialize()\n",
    "\n",
    "from sampling_handler import EnsembleClassification"
   ]
  },
  {
   "cell_type": "code",
   "execution_count": null,
   "id": "671943dd-0a57-4d80-b627-a4c74faea78b",
   "metadata": {},
   "outputs": [],
   "source": [
    "esbae = EnsembleClassification(\n",
    "    \n",
    "    # your project name, as set in previous notebooks\n",
    "    project_name = 'my_first_esbae_project',\n",
    "\n",
    "    # file containing training data\n",
    "    training_file = '/home/sepal-user/path/to/csv',\n",
    "\n",
    "    # colum within training file that contains 0 (no-change) and 1 (change)\n",
    "    binary_change_column = 'CNC',  \n",
    "    \n",
    "    # attributes within the dataset augmentation that will be used as predictors in the classification process\n",
    "    predictors = 'all',\n",
    "    \n",
    "    #\n",
    "    classifier = 'BalancedRandomForest',  # only one implemented yet\n",
    "    \n",
    "    # a random state for reproducability\n",
    "    random_state = 42\n",
    "    \n",
    "    # column in training data that holds stable forest and stable non-forest as 0 (non-forest) and 1 (forest)\n",
    "    #binary_stable_forest_column = 'fnf'\n",
    ")"
   ]
  },
  {
   "cell_type": "code",
   "execution_count": null,
   "id": "73b84c20-375b-4790-b32a-e906fd2a4c88",
   "metadata": {},
   "outputs": [],
   "source": [
    "chg_prob_df, model = esbae.binary_change_probability(outlier_removal_training=True, bayes=False)"
   ]
  },
  {
   "cell_type": "code",
   "execution_count": null,
   "id": "a667aecd-2d80-4e20-b6ab-7706d29c0e9a",
   "metadata": {
    "tags": []
   },
   "outputs": [],
   "source": [
    "esbae.plot_probability()"
   ]
  }
 ],
 "metadata": {
  "kernelspec": {
   "display_name": " (venv) Sample Based Area Estimation",
   "language": "python",
   "name": "venv-esbae_notebooks"
  },
  "language_info": {
   "codemirror_mode": {
    "name": "ipython",
    "version": 3
   },
   "file_extension": ".py",
   "mimetype": "text/x-python",
   "name": "python",
   "nbconvert_exporter": "python",
   "pygments_lexer": "ipython3",
   "version": "3.8.10"
  }
 },
 "nbformat": 4,
 "nbformat_minor": 5
}
