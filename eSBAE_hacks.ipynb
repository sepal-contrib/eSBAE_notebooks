{
 "cells": [
  {
   "cell_type": "code",
   "execution_count": null,
   "id": "7d56ce92-14bd-467a-b157-e37b4f1c38c7",
   "metadata": {
    "tags": []
   },
   "outputs": [],
   "source": [
    "import os\n",
    "from pathlib import Path\n",
    "\n",
    "import numpy as np\n",
    "import pandas as pd\n",
    "import geopandas as gpd\n",
    "import seaborn as sns\n",
    "import plotly.express as px\n",
    "\n",
    "from sampling_handler.misc import py_helpers"
   ]
  },
  {
   "cell_type": "markdown",
   "id": "cc9a850b-1863-4c0d-af72-4b11de4ff00f",
   "metadata": {},
   "source": [
    "# 1 Load augmented dataset"
   ]
  },
  {
   "cell_type": "code",
   "execution_count": null,
   "id": "f65e44ce-30a2-469f-b716-a2342a0bc74f",
   "metadata": {
    "tags": []
   },
   "outputs": [],
   "source": [
    "# change to your project name here\n",
    "project_name = 'YOUR_PROJECT_NAME'\n",
    "\n",
    "# locate out folder of dataset augmented files\n",
    "results_folder = Path(f'/home/sepal-user/module_results/esbae/{project_name}/04_Dataset_Augmentation/Landsat')\n",
    "\n",
    "# glob all files in the data augmentation output folder\n",
    "files = results_folder.glob('*geojson')\n",
    "\n",
    "# prepare for parallel execution\n",
    "files = [[str(file), False] for file in files]\n",
    "\n",
    "# read files in parallel nad put the in a list\n",
    "dfs = py_helpers.run_in_parallel(\n",
    "    py_helpers.geojson_to_gdf,\n",
    "    files,\n",
    "    workers=os.cpu_count()*2,\n",
    "    parallelization='processes'\n",
    ")\n",
    "\n",
    "# concatenate output\n",
    "df = pd.concat(dfs)"
   ]
  },
  {
   "cell_type": "markdown",
   "id": "a168b98a-fcbe-4fa9-b16f-7d674df57d90",
   "metadata": {},
   "source": [
    "# 2 Display Single Timeseries"
   ]
  },
  {
   "cell_type": "code",
   "execution_count": null,
   "id": "cc87a5d5-f404-4bad-b292-d9dd8561e314",
   "metadata": {
    "tags": []
   },
   "outputs": [],
   "source": [
    "from scipy.optimize import curve_fit\n",
    "\n",
    "def harmonic_sine_func(t, A, phi, C):\n",
    "    omega = 2 * np.pi / 365.25  # Angular frequency for yearly seasonality\n",
    "    return A * np.sin(omega * t + phi) + C\n",
    "\n",
    "# use FFT to get initial parameters\n",
    "initial_A = np.sqrt(2) * (np.max(ts) - np.min(ts))\n",
    "initial_phi = 0\n",
    "initial_C = np.mean(ts)\n",
    "\n",
    "p0 = [initial_A, initial_phi, initial_C] \n",
    "print(p0)\n",
    "\n",
    "x_data = pd.to_numeric(dates) / 10 ** 9 / 60 / 60 / 24\n",
    "fit_params, _ = curve_fit(harmonic_sine_func, x_data, ts, p0=p0)\n",
    "\n",
    "print(fit_params)\n",
    "fitted_A, fitted_phi, fitted_C = fit_params\n",
    "\n",
    "fitted_values = harmonic_sine_func(x_data, fitted_A, fitted_phi, fitted_C)\n",
    "fitted_values\n",
    "\n",
    "actual_values = ts \n",
    "residuals = actual_values - fitted_values\n",
    "squared_residuals = residuals**2\n",
    "mean_squared_error = np.mean(squared_residuals)\n",
    "rmse = np.sqrt(mean_squared_error)\n",
    "\n",
    "num_observations = len(actual_values)  # Number of observations in your dataset\n",
    "normalized_rmse = rmse / np.sqrt(num_observations)\n",
    "print(rmse, normalized_rmse)\n",
    "\n",
    "fake_dates = pd.date_range('2000-01-01', '2023-06-01')\n",
    "fake_x = pd.to_numeric(fake_dates) / 10 ** 9 / 60 / 60 / 24\n",
    "fake_fitted_values = harmonic_sine_func(fake_x, fitted_A, fitted_phi, fitted_C)"
   ]
  },
  {
   "cell_type": "code",
   "execution_count": null,
   "id": "4e5ddb3d-8931-4202-a77a-12fbaafa8dc0",
   "metadata": {
    "tags": []
   },
   "outputs": [],
   "source": [
    "# define point and band\n",
    "pid_column = 'point_id'\n",
    "point_of_interest = 123519\n",
    "band = 'ndfi'\n",
    "\n",
    "# get dates and ts\n",
    "dates = pd.to_datetime(pd.Series(df[df[pid_column] == point_of_interest].dates.values[0]))\n",
    "ts = np.array(df[df[pid_column] == point_of_interest].ts.values[0][band])\n",
    "\n",
    "# plot\n",
    "sns.set(rc={'figure.figsize':(25,5)})\n",
    "ax = sns.scatterplot(x=dates, y=ts)\n",
    "sns.lineplot(x=fake_dates, y=fake_fitted_values, ax=ax, color='orange')"
   ]
  },
  {
   "cell_type": "markdown",
   "id": "70b1d425-f658-459c-8034-e8d4c3631f2d",
   "metadata": {},
   "source": [
    "# 3 Display on a map"
   ]
  },
  {
   "cell_type": "code",
   "execution_count": null,
   "id": "e9a4e77c-2955-47e7-b829-29ece7fdfed9",
   "metadata": {
    "tags": []
   },
   "outputs": [],
   "source": [
    "df['lat'] = df.geometry.centroid.y\n",
    "df['lon'] = df.geometry.centroid.x"
   ]
  },
  {
   "cell_type": "code",
   "execution_count": null,
   "id": "6a426870-0089-415e-a872-fc958fbd6a52",
   "metadata": {
    "tags": []
   },
   "outputs": [],
   "source": [
    "df.head()"
   ]
  },
  {
   "cell_type": "code",
   "execution_count": null,
   "id": "d6e5b35c-a844-4a9b-a175-cc6eabb4bccd",
   "metadata": {
    "tags": []
   },
   "outputs": [],
   "source": [
    "from folium.plugins import MarkerCluster\n",
    "\n",
    "\n",
    "centre = ceo_df.unary_union.convex_hull.centroid\n",
    "colors = ['green', 'orange']\n",
    "ceo_df['FNF_color'] = ceo_df['FNF_2017'].apply(lambda x: 'red' if x == 1 else 'blue')\n",
    "\n",
    "# Use terrain map layer to see volcano terrain\n",
    "map_ = folium.Map(location=[centre.y, centre.x], tiles=\"Stamen Terrain\", zoom_start=8, control_scale = True)\n",
    "\n",
    "marker_cluster = MarkerCluster(popups=ceo_df['FNF_2017']).add_to(map_)\n",
    "folium.GeoJson(\n",
    "    ceo_df.head(25000),\n",
    "    marker=folium.Circle(\n",
    "        radius=70,\n",
    "        fill_color=\"orange\",\n",
    "        fill_opacity=0.75,\n",
    "        color=\"black\",\n",
    "        weight=0\n",
    "    )\n",
    "    ,\n",
    "    tooltip=folium.GeoJsonTooltip(fields=[\"FNF_2017\", \"CNC_ceo\"]),\n",
    "    style_function=lambda x: {'fillColor': x['properties']['FNF_color']},\n",
    "    highlight_function=lambda x: {\"fillOpacity\": 0.95},\n",
    "    zoom_on_click=True, \n",
    "    name='CEO Points'\n",
    ").add_to(marker_cluster)\n",
    "\n",
    "# Add custom basemaps to folium\n",
    "basemaps = {\n",
    "    'Google Maps': folium.TileLayer(\n",
    "        tiles = 'https://mt1.google.com/vt/lyrs=m&x={x}&y={y}&z={z}',\n",
    "        attr = 'Google',\n",
    "        name = 'Google Maps',\n",
    "        overlay = True,\n",
    "        control = True\n",
    "    ),\n",
    "    'Google Satellite': folium.TileLayer(\n",
    "        tiles = 'https://mt1.google.com/vt/lyrs=s&x={x}&y={y}&z={z}',\n",
    "        attr = 'Google',\n",
    "        name = 'Google Satellite',\n",
    "        overlay = True,\n",
    "        control = True\n",
    "    ),\n",
    "    'Google Terrain': folium.TileLayer(\n",
    "        tiles = 'https://mt1.google.com/vt/lyrs=p&x={x}&y={y}&z={z}',\n",
    "        attr = 'Google',\n",
    "        name = 'Google Terrain',\n",
    "        overlay = True,\n",
    "        control = True\n",
    "    ),\n",
    "    'Google Satellite Hybrid': folium.TileLayer(\n",
    "        tiles = 'https://mt1.google.com/vt/lyrs=y&x={x}&y={y}&z={z}',\n",
    "        attr = 'Google',\n",
    "        name = 'Google Satellite',\n",
    "        overlay = True,\n",
    "        control = True\n",
    "    ),\n",
    "    'Esri Satellite': folium.TileLayer(\n",
    "        tiles = 'https://server.arcgisonline.com/ArcGIS/rest/services/World_Imagery/MapServer/tile/{z}/{y}/{x}',\n",
    "        attr = 'Esri',\n",
    "        name = 'Esri Satellite',\n",
    "        overlay = True,\n",
    "        control = True\n",
    "    ),\n",
    "    \"Bing VirtualEarth\": folium.TileLayer(\n",
    "        tiles=\"http://ecn.t3.tiles.virtualearth.net/tiles/a{q}.jpeg?g=1\",\n",
    "        attr=\"Microsoft\",\n",
    "        name=\"Bing VirtualEarth\",\n",
    "        overlay=True,\n",
    "        control=True\n",
    "    ),\n",
    "}\n",
    "\n",
    "# Add custom basemaps\n",
    "#basemaps['Google Maps'].add_to(map_)\n",
    "basemaps['Google Satellite'].add_to(map_)\n",
    "#basemaps['Bing VirtualEarth'].add_to(map_)\n",
    "basemaps['Esri Satellite'].add_to(map_)\n",
    "\n",
    "folium.LayerControl().add_to(map_)\n",
    "map_"
   ]
  },
  {
   "cell_type": "markdown",
   "id": "98d534e2-8fa4-4bb7-aaba-16ef709dfd31",
   "metadata": {},
   "source": [
    "# 4 Save file as gpkg  "
   ]
  },
  {
   "cell_type": "code",
   "execution_count": null,
   "id": "16ceb92a-9558-4ae0-875d-0a93b8f32320",
   "metadata": {},
   "outputs": [],
   "source": [
    "outfile = 'outfile.gpkg'\n",
    "df.drop(['dates', 'ts'], axis=1).to_file(outfile, driver='GPKG')"
   ]
  },
  {
   "cell_type": "markdown",
   "id": "deb4db03-680d-454b-b63b-4ed97203a359",
   "metadata": {},
   "source": [
    "# 5 Delete tmp esbae files and folders on EE manually"
   ]
  },
  {
   "cell_type": "code",
   "execution_count": 1,
   "id": "926257d9-08db-4bb2-9d5b-40e9e84f22ad",
   "metadata": {},
   "outputs": [
    {
     "name": "stderr",
     "output_type": "stream",
     "text": [
      "\n",
      "KeyboardInterrupt\n",
      "\n"
     ]
    }
   ],
   "source": [
    "import ee\n",
    "ee.Initialize()\n",
    "\n",
    "from sampling_handler.misc import ee_helpers\n",
    "ee_helpers.cleanup_tmp_esbae()"
   ]
  },
  {
   "cell_type": "code",
   "execution_count": null,
   "id": "c5d29f9a-3462-4d75-a81c-f79ccb8cc3f8",
   "metadata": {},
   "outputs": [],
   "source": []
  }
 ],
 "metadata": {
  "kernelspec": {
   "display_name": " (venv) Sample Based Area Estimation",
   "language": "python",
   "name": "venv-esbae_notebooks"
  },
  "language_info": {
   "codemirror_mode": {
    "name": "ipython",
    "version": 3
   },
   "file_extension": ".py",
   "mimetype": "text/x-python",
   "name": "python",
   "nbconvert_exporter": "python",
   "pygments_lexer": "ipython3",
   "version": "3.10.12"
  }
 },
 "nbformat": 4,
 "nbformat_minor": 5
}
