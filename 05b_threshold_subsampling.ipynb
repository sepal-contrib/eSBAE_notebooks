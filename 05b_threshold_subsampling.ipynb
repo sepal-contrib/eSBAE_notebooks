{
 "cells": [
  {
   "cell_type": "markdown",
   "id": "2ea15a02-cfc2-4649-8157-d6f3cf5d5171",
   "metadata": {
    "tags": []
   },
   "source": [
    "<font face='Calibri' size='2'> <i>eSBAE - Notebook Series - Part 5a, version 0.1, July 2023. Andreas Vollrath, UN-Food and Agricultural Organization, Rome</i>\n",
    "</font>"
   ]
  },
  {
   "cell_type": "markdown",
   "id": "daf945fb-bf85-4174-8607-ed4424f2b49a",
   "metadata": {
    "tags": []
   },
   "source": [
    "![title](images/header.png)\n",
    "\n",
    "\n",
    "# Va - eSBAE Training data selection\n",
    "### Selecting likely change points by setting thresholds on various change attributes\n",
    "-------\n",
    "\n",
    "This notebook takes you through the process of selecting initial training data points with a high likelihood of containing forest cover change points. \n",
    "\n",
    "As forest change is a rare event, it is hard to get an initial set of validated points right away. We therefore use the information from the dataset agumentation, where the magnitudes of change from various algorithm indicate a potential change in forest cover. The procedure selects those points with the highest absolute magnitudes according to a threshold set on the percentile. \n",
    "\n",
    "It should be noted that the magnitudes outside forest can be quite high due to seasonal variability or other non-forest related land-use/land cover changes. It is therefore recommended to further constraint the selection by setting some loose values on tree height and tree cover. \n",
    "\n",
    "The points selected in this procedure will have to be checked by visual interpretation. There is the possibility to save them as csv files that are compatible with [Collect Earth Online](https://www.collect.earth/))\n",
    "\n",
    "**This notebook runs best on a r16 instance**"
   ]
  },
  {
   "cell_type": "markdown",
   "id": "9d6182a7-bdc7-4a79-96f2-cf7486153c44",
   "metadata": {
    "tags": []
   },
   "source": [
    "# --- Beta verision - Under Construction---\n",
    "\n",
    "![title](images/header.png)\n",
    "\n",
    "\n",
    "# Va - eSBAE Training data selection\n",
    "### Selecting likely change points by setting thresholds on various change attributes\n",
    "-------\n",
    "\n",
    "This notebook takes you through the process of selecting initial training data points with a high likelihood of containing forest cover change points. \n",
    "\n",
    "As forest change is a rare event, it is hard to get an initial set of validated points right away. We therefore use the information from the dataset agumentation, where the magnitudes of change from various algorithm indicate a potential change in forest cover. The procedure selects those points with the highest absolute magnitudes according to a threshold set on the percentile. \n",
    "\n",
    "It should be noted that the magnitudes outside forest can be quite high due to seasonal variability or other non-forest related land-use/land cover changes. It is therefore recommended to further constraint the selection by setting some loose values on tree height and tree cover. \n",
    "\n",
    "The points selected in this procedure will have to be checked by visual interpretation. There is the possibility to save them as csv files that are compatible with [Collect Earth Online](https://www.collect.earth/))\n",
    "\n",
    "**This notebook runs best on a m16 instance**"
   ]
  },
  {
   "cell_type": "code",
   "execution_count": null,
   "id": "514b2b60-4d84-4a39-a79b-5106c138f330",
   "metadata": {
    "tags": []
   },
   "outputs": [],
   "source": [
    "import ee\n",
    "ee.Initialize()\n",
    "\n",
    "from sampling_handler import ThresholdSubSampling"
   ]
  },
  {
   "cell_type": "markdown",
   "id": "faecf5d7-2cfe-4b92-be73-ce4bdd05eb15",
   "metadata": {
    "tags": []
   },
   "source": [
    "# Read TS data\n",
    "\n",
    "Here we need to point to the dataset augmentation folder, and aggregate the files to a single DataFrame."
   ]
  },
  {
   "cell_type": "code",
   "execution_count": null,
   "id": "afd9739b-73ef-409b-9e06-462222bc2709",
   "metadata": {
    "tags": []
   },
   "outputs": [],
   "source": [
    "esbae = ThresholdSubSampling(\n",
    "    \n",
    "    # your project name, as set in previous notebooks\n",
    "    project_name = 'my_first_esbae_project',\n",
    "\n",
    "    # start of calibration period (mainly for bfast)\n",
    "    percentile = 75,  # absolute value of percentile for each change algorithm's magnitude\n",
    "\n",
    "    # Actual period of interest, i.e. monitoring period\n",
    "    tree_cover = 20,  # aditional threshold on tree cover from Hansen 2000 Global Forest Cover, points below this will nto be considered\n",
    "    tree_height = 5,  # additional threshhold on tree height, points below this will not be considered\n",
    "    \n",
    "    # final set of points - if this value is below the total number of points a spatially balanced subselection using the space filling curve is used\n",
    "    max_points = 150,\n",
    "    \n",
    "    # a random state for reproducability\n",
    "    random_state = 42\n",
    ")"
   ]
  },
  {
   "cell_type": "markdown",
   "id": "ad32aedb-1477-4c1c-a8c3-77bfd5729f50",
   "metadata": {},
   "source": [
    "### Extract points\n",
    "\n",
    "We take all points that higher than a certain percentile of that feature.\n",
    "\n",
    "For Bfast, CCDC, Cusum, and EWMA we can furhter filter for tree cover from the year 2000 (Hanson et al. 2013) and tree height (Potapov et al. 2019) above a certain threshold. \n",
    "\n",
    "Trend analysis is only affected by tree height threshold, as it is powerful in detecting gains, so we do not want to filter out non-forested areas from 2000.\n",
    "\n",
    "In addition, start and end year will be extracted from the configuration file, and change points in Hanson's GFC and JRC's TMF dataset are selected. \n",
    "\n",
    "If at the end, too many points fall in the selection, the max_points parameter the number of points will be selected using the approach of a space filling curve (i.e. spatially balanced)"
   ]
  },
  {
   "cell_type": "code",
   "execution_count": null,
   "id": "85e5a606-6cd3-4541-bf51-7b6fd98b1c6e",
   "metadata": {
    "tags": []
   },
   "outputs": [],
   "source": [
    "training_samples = esbae.extract_training_samples(save_as_ceo=True)"
   ]
  },
  {
   "cell_type": "markdown",
   "id": "55378165-ac8a-47d6-9dbb-b0b952419e64",
   "metadata": {},
   "source": [
    "### Plot points"
   ]
  },
  {
   "cell_type": "code",
   "execution_count": null,
   "id": "e2ddc7f2-8e5a-4e6d-8f06-95d2952bed04",
   "metadata": {
    "tags": []
   },
   "outputs": [],
   "source": [
    "esbae.plot_training_samples(markersize=10)"
   ]
  }
 ],
 "metadata": {
  "kernelspec": {
   "display_name": " (venv) Sample Based Area Estimation",
   "language": "python",
   "name": "venv-esbae_notebooks"
  },
  "language_info": {
   "codemirror_mode": {
    "name": "ipython",
    "version": 3
   },
   "file_extension": ".py",
   "mimetype": "text/x-python",
   "name": "python",
   "nbconvert_exporter": "python",
   "pygments_lexer": "ipython3",
   "version": "3.8.10"
  }
 },
 "nbformat": 4,
 "nbformat_minor": 5
}
