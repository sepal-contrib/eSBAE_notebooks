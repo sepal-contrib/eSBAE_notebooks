{
 "cells": [
  {
   "cell_type": "code",
   "execution_count": 1,
   "id": "e23314bf-64fc-4ffc-9407-b8b1fe6666b0",
   "metadata": {
    "tags": []
   },
   "outputs": [
    {
     "name": "stderr",
     "output_type": "stream",
     "text": [
      "/home/sepal-user/venv/pre_esbae/lib/python3.8/site-packages/bfast/__init__.py:10: UserWarning: cupy is not available in this environment, GPU fonctionnalities won't be available\n",
      "  warn(\"cupy is not available in this environment, GPU fonctionnalities won't be available\")\n"
     ]
    }
   ],
   "source": [
    "from pathlib import Path\n",
    "from datetime import datetime as dt\n",
    "import pandas as pd\n",
    "import geopandas as gpd\n",
    "import requests\n",
    "import numpy as np\n",
    "from sampling_handler.misc import py_helpers\n",
    "#from sampling_handler.time_series import change_detections\n",
    "from retrying import retry\n",
    "\n",
    "import ee\n",
    "ee.Initialize(opt_url='https://earthengine-highvolume.googleapis.com')"
   ]
  },
  {
   "cell_type": "code",
   "execution_count": 10,
   "id": "b53a6b7f-eadc-415b-89ec-b20e3155ce4c",
   "metadata": {
    "tags": []
   },
   "outputs": [],
   "source": [
    "def get_segments(ccdcAst, mask_1d):\n",
    "    \"\"\" \"\"\"\n",
    "    bands_2d = ccdcAst.select(\".*_coefs\").bandNames()\n",
    "    bands_1d = ccdcAst.bandNames().removeAll(bands_2d)\n",
    "    segment_1d = ccdcAst.select(bands_1d).arrayMask(mask_1d)\n",
    "    mask_2d = mask_1d.arrayReshape(ee.Image(ee.Array([-1, 1])), 2)\n",
    "    segment_2d = ccdcAst.select(bands_2d).arrayMask(mask_2d)\n",
    "    return segment_1d.addBands(segment_2d).updateMask(segment_1d.select(0).arrayLength(0).gt(0))\n",
    "\n",
    "\n",
    "def get_segment(ccdcAst, mask_1d):\n",
    "    \"\"\" \"\"\"\n",
    "    bands_2d = ccdcAst.select(\".*_coefs\").bandNames()\n",
    "    bands_1d = ccdcAst.bandNames().removeAll(bands_2d)\n",
    "    segment_1d = ccdcAst.select(bands_1d).arrayMask(mask_1d).arrayGet([0])\n",
    "    mask_2d = mask_1d.arrayReshape(ee.Image(ee.Array([-1, 1])), 2)\n",
    "    segment_2d = ccdcAst.select(bands_2d).arrayMask(mask_2d).arrayProject([1])\n",
    "    return segment_1d.addBands(segment_2d).updateMask(segment_1d.select(0).arrayLength(0).gt(0))\n",
    "\n",
    "\n",
    "def transform_date(date):\n",
    "    \"\"\" \"\"\"\n",
    "    date = pd.to_datetime(dt.fromtimestamp(date / 1000.0))\n",
    "    dates_float = date.year + np.round(date.dayofyear / 365, 3)\n",
    "    dates_float = 0 if dates_float == 1970.003 else dates_float\n",
    "    return dates_float"
   ]
  },
  {
   "cell_type": "code",
   "execution_count": 3,
   "id": "983898c0-dc0c-4b18-941c-a6b7dc765f21",
   "metadata": {
    "tags": []
   },
   "outputs": [],
   "source": [
    "point_id_name = 'point_id'\n",
    "\n",
    "# start of calibration period (mainly for bfast)\n",
    "start_calibration = \"2018-01-01\"  # YYYY-MM-DD format\n",
    "\n",
    "# Actual period of interest, i.e. monitoring period\n",
    "start_monitor =     \"2021-01-01\"  # YYYY-MM-DD format\n",
    "end_monitor =       \"2023-01-01\"  # YYYY-MM-DD format\n",
    "\n",
    "# Directory where output and temp files will go\n",
    "outdir = 'results'  # goes to module_results/sbae_point_analysis if set to None\n",
    "\n",
    "# Select algorithms to run (Treu or False)\n",
    "cusum_deforest =  False\n",
    "bfast_monitor =   False\n",
    "bs_slope =        False\n",
    "ts_metrics =      False\n",
    "ccdc =            True\n",
    "landtrendr =      False\n",
    "jrc_nrt =         False\n",
    "global_products = False\n",
    "\n",
    "# select the bands to extract\n",
    "bands = ['green', 'red', 'nir', 'swir1', 'swir2', 'ndfi'] # other choices: ndfi, ndmi, mndwi, brightness, greenness, wetness\n",
    "\n",
    "# select the band for univariate ts-analysis (has to be inside bands list)\n",
    "ts_band = 'ndfi'\n",
    "\n",
    "# select the resolution to which the satellite data will be resized.\n",
    "scale = 70  # in meters (70 m is half ha, relates to FAO forest definition)\n",
    "\n",
    "### DO NOT CHANGE YET ###\n",
    "satellite='Landsat'  # this is going to be Surface Reflactance, Collection 2, Tier 1 data only\n",
    "max_cloud_cover = 75  # in percentage (0-100)"
   ]
  },
  {
   "cell_type": "code",
   "execution_count": 4,
   "id": "f9417831-747c-4cf8-95cb-a6ea2e840c24",
   "metadata": {
    "tags": []
   },
   "outputs": [],
   "source": [
    "# landsat related parameters\n",
    "lsat_params = {\n",
    "    'l9':     True,\n",
    "    'l8':     True,\n",
    "    'l7':     True,\n",
    "    'l5':     True,\n",
    "    'l4':     True,\n",
    "    'brdf':   True,\n",
    "    'bands':  bands,\n",
    "    'max_cc': max_cloud_cover\n",
    "}\n",
    "\n",
    "# bfast parameters\n",
    "bfast_params = {\n",
    "    'run':           bfast_monitor,\n",
    "    'start_monitor': start_monitor, \n",
    "    'freq':          365,\n",
    "    'k':             3, \n",
    "    'hfrac':         0.25, \n",
    "    'trend':         True, \n",
    "    'level':         0.05, \n",
    "    'backend':       'python'\n",
    "}\n",
    "\n",
    "# cusum parameters\n",
    "cusum_params = {\n",
    "    'run':              cusum_deforest,\n",
    "    'nr_of_bootstraps': 1000\n",
    "}\n",
    "\n",
    "# slope parameters\n",
    "bs_slope_params = {\n",
    "    'run':              bs_slope,\n",
    "    'nr_of_bootstraps': 1000\n",
    "}\n",
    "\n",
    "# time-series metrics\n",
    "ts_metrics_params = {\n",
    "    'run':              ts_metrics,\n",
    "    'outlier_removal':  False,\n",
    "    'z_threshhold':     3\n",
    "}\n",
    "\n",
    "# ccdc parameters\n",
    "ccdc_params = {\n",
    "    'run':                   ccdc,\n",
    "    'breakpointBands':       ['green', 'red', 'nir', 'swir1', 'swir2'],\n",
    "    'tmaskBands':            ['green', 'swir2'],\n",
    "    'minObservations':       6,\n",
    "    'chiSquareProbability':  .99,\n",
    "    'minNumOfYearsScaler':   1,\n",
    "    'dateFormat':            2,\n",
    "    'lambda':                20,\n",
    "    'maxIterations':         1000\n",
    "}\n",
    "\n",
    "\n",
    "landtrendr_params = { \n",
    "        'run':                    landtrendr,\n",
    "        'maxSegments':            6,\n",
    "        'spikeThreshold':         0.9,\n",
    "        'vertexCountOvershoot':   3,\n",
    "        'preventOneYearRecovery': True,\n",
    "        'recoveryThreshold':      0.25,\n",
    "        'pvalThreshold':          0.05,\n",
    "        'bestModelProportion':    0.75,\n",
    "        'minObservationsNeeded':  3\n",
    "}\n",
    "\n",
    "jrc_nrt_params = {\n",
    "    'run': jrc_nrt\n",
    "}\n",
    "\n",
    "# global products parameters\n",
    "global_products = {\n",
    "    'run':                      global_products,\n",
    "    'gfc':                      True,     # will include tree-cover 2000, loss, gain, lossyear\n",
    "    'tmf':                      True,    # will include deforestation and degradation year for tropical moist forests\n",
    "    'tmf_years':                True,    # will include classes per year - according to the monitor period\n",
    "    'esa_lc20':                 True,    # will include ESA LandCover Product class\n",
    "    'copernicus_lc':            True,    # will include ESA LandCover Product class - acording to the monitoring years\n",
    "    'esri_lc':                  True,    # will include the classes from ESRI World Cover 2020\n",
    "    'lang_tree_height':         True,    # returns the Tree Height from Lang et al 2022\n",
    "    'potapov_tree_height':      True,    # returns the tree height from Potapov et al. 2019 \n",
    "    'elevation':                True,    # returns elevation, slope and aspect\n",
    "    'dynamic_world_tree_prob':  True,    # returns Min, Max, Mean and StdDev of the trees probability for the monitoring period\n",
    "    'dynamic_world_class_mode': True     # returns the mode of the class for the monitoring period   \n",
    "}\n",
    "\n",
    "### DO NOT CHANGE ###\n",
    "### GATHER ALL INFO INTO A DICT #####\n",
    "config_dict = {\n",
    "    'work_dir':                         outdir,\n",
    "    'workers':                          500,\n",
    "    'file_accumulation':                25000,\n",
    "    'max_points_per_chunk':             250,\n",
    "    'grid_size_levels':                 [4, 2, 1, 0.5, 0.25, 0.125, 0.075],  # definition of chunk sizes in degrees  \n",
    "    'lsat_params':                      lsat_params,\n",
    "    'ts_params': {\n",
    "        'start_calibration':            start_calibration,\n",
    "        'start_monitor':                start_monitor,\n",
    "        'end_monitor':                  end_monitor,\n",
    "        'point_id':                     point_id_name,\n",
    "        'bands':                        bands,\n",
    "        'ts_band':                      ts_band,\n",
    "        'satellite':                    satellite,\n",
    "        'scale':                        scale,\n",
    "        'max_cc':                       max_cloud_cover,\n",
    "        'outlier_removal':              True,\n",
    "        'smooth_ts':                    True       \n",
    "    },    \n",
    "    'bfast_params':                     bfast_params,\n",
    "    'cusum_params':                     cusum_params,\n",
    "    'bs_slope_params':                  bs_slope_params,\n",
    "    'ts_metrics_params':                ts_metrics_params,\n",
    "    'ccdc_params':                      ccdc_params,\n",
    "    'landtrendr_params':                landtrendr_params,\n",
    "    'jrc_nrt_params':                   jrc_nrt_params,\n",
    "    'global_products':                  global_products\n",
    "}"
   ]
  },
  {
   "cell_type": "code",
   "execution_count": 5,
   "id": "1ad3854a-af29-423f-9026-25d169d1b774",
   "metadata": {
    "tags": []
   },
   "outputs": [
    {
     "name": "stdout",
     "output_type": "stream",
     "text": [
      "Accumulated batch 1 of files\n"
     ]
    },
    {
     "data": {
      "text/html": [
       "<div>\n",
       "<style scoped>\n",
       "    .dataframe tbody tr th:only-of-type {\n",
       "        vertical-align: middle;\n",
       "    }\n",
       "\n",
       "    .dataframe tbody tr th {\n",
       "        vertical-align: top;\n",
       "    }\n",
       "\n",
       "    .dataframe thead th {\n",
       "        text-align: right;\n",
       "    }\n",
       "</style>\n",
       "<table border=\"1\" class=\"dataframe\">\n",
       "  <thead>\n",
       "    <tr style=\"text-align: right;\">\n",
       "      <th></th>\n",
       "      <th>geometry</th>\n",
       "      <th>point_id</th>\n",
       "      <th>dates</th>\n",
       "      <th>ts</th>\n",
       "      <th>images</th>\n",
       "    </tr>\n",
       "  </thead>\n",
       "  <tbody>\n",
       "    <tr>\n",
       "      <th>0</th>\n",
       "      <td>POINT (35.87430 10.19384)</td>\n",
       "      <td>37369</td>\n",
       "      <td>DatetimeIndex(['2013-01-05', '2013-02-06', '20...</td>\n",
       "      <td>{'green': [498, 590, 638, 842, 798, 757, 482, ...</td>\n",
       "      <td>223</td>\n",
       "    </tr>\n",
       "  </tbody>\n",
       "</table>\n",
       "</div>"
      ],
      "text/plain": [
       "                    geometry  point_id  \\\n",
       "0  POINT (35.87430 10.19384)     37369   \n",
       "\n",
       "                                               dates  \\\n",
       "0  DatetimeIndex(['2013-01-05', '2013-02-06', '20...   \n",
       "\n",
       "                                                  ts  images  \n",
       "0  {'green': [498, 590, 638, 842, 798, 757, 482, ...     223  "
      ]
     },
     "metadata": {},
     "output_type": "display_data"
    }
   ],
   "source": [
    "ts_dir = Path('/home/sepal-user/test_esbae/results/Landsat')\n",
    "#ts_dir = Path('/home/sepal-user/module_results/esbae/Belize_MRV/03_Timeseries_Extract/Landsat')\n",
    "files = list(ts_dir.glob('*geojson'))\n",
    "\n",
    "p, j, to_concat = 0, 0, []\n",
    "for i, file in enumerate(files):\n",
    "\n",
    "    gdf = py_helpers.geojson_to_gdf(file, convert_dates=True)\n",
    "    p += len(gdf)\n",
    "    to_concat.append(gdf)\n",
    "\n",
    "    if p > 200:\n",
    "        # accumulate files to dataframe until length is reached\n",
    "        print(f'Accumulated batch {j+1} of files')\n",
    "        # run change routine on accumulated files\n",
    "        cdf = pd.concat(to_concat).head(1)\n",
    "        break\n",
    "        \n",
    "display(cdf.head(5))"
   ]
  },
  {
   "cell_type": "code",
   "execution_count": 66,
   "id": "6260c4cd-055d-47ca-97ee-0f3ea56fab8f",
   "metadata": {
    "tags": []
   },
   "outputs": [
    {
     "data": {
      "image/png": "[encoded data removed]",
      "text/plain": [
       "<Figure size 640x480 with 1 Axes>"
      ]
     },
     "metadata": {},
     "output_type": "display_data"
    }
   ],
   "source": [
    "import seaborn as sns\n",
    "def plot_timeseries(df, point_id, point_id_name=\"point_id\"):\n",
    "\n",
    "    \n",
    "    dates = df[df[point_id_name] == point_id].dates.values[0]\n",
    "    ts = np.array(df[df[point_id_name] == point_id].ts.values[0]['ndfi'])\n",
    "\n",
    "    sns.scatterplot(x=dates, y=ts)\n",
    "    \n",
    "plot_timeseries(cdf.head(1), 2184)"
   ]
  },
  {
   "cell_type": "code",
   "execution_count": 12,
   "id": "fa43ce7b-2ed7-4873-b2cb-df8d8805159d",
   "metadata": {
    "tags": []
   },
   "outputs": [
    {
     "name": "stdout",
     "output_type": "stream",
     "text": [
      "CPU times: user 11 µs, sys: 0 ns, total: 11 µs\n",
      "Wall time: 14.1 µs\n"
     ]
    }
   ],
   "source": [
    "%%time\n",
    "\n",
    "#@retry(stop_max_attempt_number=3, wait_random_min=5000, wait_random_max=10000)\n",
    "def run_ccdc(df, samples, config_dict):\n",
    "    ccdc_params = config_dict[\"ccdc_params\"]\n",
    "    ts_band = config_dict[\"ts_params\"][\"ts_band\"]\n",
    "    bands = config_dict[\"ts_params\"][\"bands\"]\n",
    "    point_id_name = config_dict[\"ts_params\"][\"point_id\"]\n",
    "\n",
    "    start_calibration = config_dict[\"ts_params\"][\"start_calibration\"]\n",
    "    start_monitor = config_dict[\"ts_params\"][\"start_monitor\"]\n",
    "    end_monitor = config_dict[\"ts_params\"][\"end_monitor\"]\n",
    "    scale = config_dict[\"ts_params\"][\"scale\"]\n",
    "    print(ts_band, start_monitor, end_monitor)\n",
    "    #args_list, iColl, points = [], None, None\n",
    "    args_list, iColl, points = [], None, []\n",
    "    for i, row in df.iterrows():\n",
    "\n",
    "        # get dates\n",
    "        dates = ee.List([dt.strftime(date, \"%Y-%m-%d\") for date in row.dates])\n",
    "        #print(dates.getInfo())\n",
    "        # transform ts dict into way to ingest into imagery\n",
    "        ts = []\n",
    "        for j in range(len(row.dates)):\n",
    "            ts.append([v[j] for v in row.ts.values()])\n",
    "        \n",
    "        #print(ts)\n",
    "        # gather points for feature collection to reduce on\n",
    "        geom = ee.Feature(\n",
    "            row.geometry.__geo_interface__\n",
    "        ).set(point_id_name, row[point_id_name])\n",
    "        squared = geom.geometry().buffer(100, 10).bounds()\n",
    "        points.append(row[point_id_name])\n",
    "        \n",
    "        # merge dates with ts data\n",
    "        ts = ee.List(ts).zip(dates)\n",
    "\n",
    "        def zip_to_image(element):\n",
    "\n",
    "            values = ee.List(element).get(0)\n",
    "            date = ee.List(element).get(1)\n",
    "\n",
    "            return ee.Image(\n",
    "                ee.Image.constant(values)\n",
    "                .rename(list(row.ts.keys()))\n",
    "                .clip(squared)\n",
    "                .set(\"system:time_start\", ee.Date.parse(\"YYYY-MM-dd\", date).millis())\n",
    "                .toFloat()\n",
    "            )\n",
    "\n",
    "        # create the image collection\n",
    "        tsee = ee.ImageCollection(ts.map(zip_to_image))\n",
    "        iColl = iColl.cat(tsee.toList(tsee.size())) if iColl else tsee.toList(tsee.size())\n",
    "    \n",
    "    points = samples.filter(ee.Filter.inList(point_id_name, points))\n",
    "    \n",
    "    iColl = ee.ImageCollection.fromImages(iColl)\n",
    "    #print(iColl.getInfo())\n",
    "    # add collection and remove run from parameter dict\n",
    "    ccdc_params.update(collection=iColl)\n",
    "    ccdc_params.pop(\"run\", None)\n",
    "    #print(ccdc_params)\n",
    "    # run ccdc\n",
    "    ccdc = ee.Algorithms.TemporalSegmentation.Ccdc(**ccdc_params)\n",
    "    \n",
    "    # extract info\n",
    "    # create array of start of monitoring in shape of tEnd\n",
    "    tEnd = ccdc.select(\"tEnd\")\n",
    "    mon_date_array_start = tEnd.multiply(0).add(ee.Date(start_monitor).millis())\n",
    "    mon_date_array_end = tEnd.multiply(0).add(ee.Date(end_monitor).millis())\n",
    "\n",
    "    # create the date mask\n",
    "    date_mask = tEnd.gte(mon_date_array_start).And(tEnd.lte(mon_date_array_end))\n",
    "    \n",
    "    # use date mask to mask all of ccdc\n",
    "    monitoring_ccdc = get_segments(ccdc, date_mask)\n",
    "\n",
    "    # mask for highest magnitude in monitoring period\n",
    "    magnitude = monitoring_ccdc.select(f'{ts_band}_magnitude')\n",
    "    max_abs_magnitude = (\n",
    "    magnitude.abs()\n",
    "        .arrayReduce(ee.Reducer.max(), [0])\n",
    "        .arrayGet([0])\n",
    "        .rename(\"max_abs_magnitude\")\n",
    "        )\n",
    "    \n",
    "    mask = magnitude.abs().eq(max_abs_magnitude)\n",
    "    segment = get_segment(monitoring_ccdc, mask)\n",
    "    print(segment.getInfo())\n",
    "    magnitude = ee.Image(segment.select([f'{ts_band}_magnitude', \"tBreak\", \"tEnd\"]))\n",
    "    \n",
    "    def pixel_value_nan(feature):\n",
    "        pixel_value = ee.List([feature.get(f'{ts_band}_magnitude'), -9999]).reduce(\n",
    "            ee.Reducer.firstNonNull()\n",
    "        )\n",
    "        return feature.set({f'{ts_band}_magnitude': pixel_value})\n",
    "    \n",
    "    sampled_points = magnitude.reduceRegions(**{\n",
    "            \"reducer\": ee.Reducer.first(),\n",
    "            \"collection\": points,\n",
    "            \"scale\": 100,\n",
    "            \"tileScale\": 4,\n",
    "        }).map(pixel_value_nan).select(\n",
    "            propertySelectors=[point_id_name, f'{ts_band}_magnitude', \"tBreak\", \"tEnd\"],\n",
    "            retainGeometry=False\n",
    "    )\n",
    "    print(sampled_points.first().propertyNames().getInfo())\n",
    "    url = sampled_points.getDownloadUrl(\"geojson\")\n",
    "    \n",
    "    # Handle downloading the actual pixels.\n",
    "    r = requests.get(url, stream=True)\n",
    "    if r.status_code != 200:\n",
    "        raise r.raise_for_status()\n",
    "\n",
    "    return pd.DataFrame([feature['properties'] for feature in r.json()['features']])"
   ]
  },
  {
   "cell_type": "code",
   "execution_count": 13,
   "id": "91d36c06-963c-4b63-880f-7e908b0dab34",
   "metadata": {
    "tags": []
   },
   "outputs": [
    {
     "name": "stdout",
     "output_type": "stream",
     "text": [
      "ndfi 2021-01-01 2023-01-01\n",
      "{'type': 'Image', 'bands': [{'id': 'tStart', 'data_type': {'type': 'PixelType', 'precision': 'double'}, 'crs': 'EPSG:4326', 'crs_transform': [1, 0, 0, 0, 1, 0]}, {'id': 'tEnd', 'data_type': {'type': 'PixelType', 'precision': 'double'}, 'crs': 'EPSG:4326', 'crs_transform': [1, 0, 0, 0, 1, 0]}, {'id': 'tBreak', 'data_type': {'type': 'PixelType', 'precision': 'double'}, 'crs': 'EPSG:4326', 'crs_transform': [1, 0, 0, 0, 1, 0]}, {'id': 'numObs', 'data_type': {'type': 'PixelType', 'precision': 'int', 'min': -2147483648, 'max': 2147483647}, 'crs': 'EPSG:4326', 'crs_transform': [1, 0, 0, 0, 1, 0]}, {'id': 'changeProb', 'data_type': {'type': 'PixelType', 'precision': 'double'}, 'crs': 'EPSG:4326', 'crs_transform': [1, 0, 0, 0, 1, 0]}, {'id': 'green_rmse', 'data_type': {'type': 'PixelType', 'precision': 'double'}, 'crs': 'EPSG:4326', 'crs_transform': [1, 0, 0, 0, 1, 0]}, {'id': 'red_rmse', 'data_type': {'type': 'PixelType', 'precision': 'double'}, 'crs': 'EPSG:4326', 'crs_transform': [1, 0, 0, 0, 1, 0]}, {'id': 'nir_rmse', 'data_type': {'type': 'PixelType', 'precision': 'double'}, 'crs': 'EPSG:4326', 'crs_transform': [1, 0, 0, 0, 1, 0]}, {'id': 'swir1_rmse', 'data_type': {'type': 'PixelType', 'precision': 'double'}, 'crs': 'EPSG:4326', 'crs_transform': [1, 0, 0, 0, 1, 0]}, {'id': 'swir2_rmse', 'data_type': {'type': 'PixelType', 'precision': 'double'}, 'crs': 'EPSG:4326', 'crs_transform': [1, 0, 0, 0, 1, 0]}, {'id': 'ndfi_rmse', 'data_type': {'type': 'PixelType', 'precision': 'double'}, 'crs': 'EPSG:4326', 'crs_transform': [1, 0, 0, 0, 1, 0]}, {'id': 'brightness_rmse', 'data_type': {'type': 'PixelType', 'precision': 'double'}, 'crs': 'EPSG:4326', 'crs_transform': [1, 0, 0, 0, 1, 0]}, {'id': 'greenness_rmse', 'data_type': {'type': 'PixelType', 'precision': 'double'}, 'crs': 'EPSG:4326', 'crs_transform': [1, 0, 0, 0, 1, 0]}, {'id': 'wetness_rmse', 'data_type': {'type': 'PixelType', 'precision': 'double'}, 'crs': 'EPSG:4326', 'crs_transform': [1, 0, 0, 0, 1, 0]}, {'id': 'green_magnitude', 'data_type': {'type': 'PixelType', 'precision': 'double'}, 'crs': 'EPSG:4326', 'crs_transform': [1, 0, 0, 0, 1, 0]}, {'id': 'red_magnitude', 'data_type': {'type': 'PixelType', 'precision': 'double'}, 'crs': 'EPSG:4326', 'crs_transform': [1, 0, 0, 0, 1, 0]}, {'id': 'nir_magnitude', 'data_type': {'type': 'PixelType', 'precision': 'double'}, 'crs': 'EPSG:4326', 'crs_transform': [1, 0, 0, 0, 1, 0]}, {'id': 'swir1_magnitude', 'data_type': {'type': 'PixelType', 'precision': 'double'}, 'crs': 'EPSG:4326', 'crs_transform': [1, 0, 0, 0, 1, 0]}, {'id': 'swir2_magnitude', 'data_type': {'type': 'PixelType', 'precision': 'double'}, 'crs': 'EPSG:4326', 'crs_transform': [1, 0, 0, 0, 1, 0]}, {'id': 'ndfi_magnitude', 'data_type': {'type': 'PixelType', 'precision': 'double'}, 'crs': 'EPSG:4326', 'crs_transform': [1, 0, 0, 0, 1, 0]}, {'id': 'brightness_magnitude', 'data_type': {'type': 'PixelType', 'precision': 'double'}, 'crs': 'EPSG:4326', 'crs_transform': [1, 0, 0, 0, 1, 0]}, {'id': 'greenness_magnitude', 'data_type': {'type': 'PixelType', 'precision': 'double'}, 'crs': 'EPSG:4326', 'crs_transform': [1, 0, 0, 0, 1, 0]}, {'id': 'wetness_magnitude', 'data_type': {'type': 'PixelType', 'precision': 'double'}, 'crs': 'EPSG:4326', 'crs_transform': [1, 0, 0, 0, 1, 0]}, {'id': 'green_coefs', 'data_type': {'type': 'PixelType', 'precision': 'double', 'dimensions': 1}, 'crs': 'EPSG:4326', 'crs_transform': [1, 0, 0, 0, 1, 0]}, {'id': 'red_coefs', 'data_type': {'type': 'PixelType', 'precision': 'double', 'dimensions': 1}, 'crs': 'EPSG:4326', 'crs_transform': [1, 0, 0, 0, 1, 0]}, {'id': 'nir_coefs', 'data_type': {'type': 'PixelType', 'precision': 'double', 'dimensions': 1}, 'crs': 'EPSG:4326', 'crs_transform': [1, 0, 0, 0, 1, 0]}, {'id': 'swir1_coefs', 'data_type': {'type': 'PixelType', 'precision': 'double', 'dimensions': 1}, 'crs': 'EPSG:4326', 'crs_transform': [1, 0, 0, 0, 1, 0]}, {'id': 'swir2_coefs', 'data_type': {'type': 'PixelType', 'precision': 'double', 'dimensions': 1}, 'crs': 'EPSG:4326', 'crs_transform': [1, 0, 0, 0, 1, 0]}, {'id': 'ndfi_coefs', 'data_type': {'type': 'PixelType', 'precision': 'double', 'dimensions': 1}, 'crs': 'EPSG:4326', 'crs_transform': [1, 0, 0, 0, 1, 0]}, {'id': 'brightness_coefs', 'data_type': {'type': 'PixelType', 'precision': 'double', 'dimensions': 1}, 'crs': 'EPSG:4326', 'crs_transform': [1, 0, 0, 0, 1, 0]}, {'id': 'greenness_coefs', 'data_type': {'type': 'PixelType', 'precision': 'double', 'dimensions': 1}, 'crs': 'EPSG:4326', 'crs_transform': [1, 0, 0, 0, 1, 0]}, {'id': 'wetness_coefs', 'data_type': {'type': 'PixelType', 'precision': 'double', 'dimensions': 1}, 'crs': 'EPSG:4326', 'crs_transform': [1, 0, 0, 0, 1, 0]}]}\n",
      "['system:index', 'ndfi_magnitude', 'point_id', 'tBreak', 'tEnd']\n",
      "CPU times: user 210 ms, sys: 3.45 ms, total: 214 ms\n",
      "Wall time: 14.4 s\n"
     ]
    },
    {
     "data": {
      "text/html": [
       "<div>\n",
       "<style scoped>\n",
       "    .dataframe tbody tr th:only-of-type {\n",
       "        vertical-align: middle;\n",
       "    }\n",
       "\n",
       "    .dataframe tbody tr th {\n",
       "        vertical-align: top;\n",
       "    }\n",
       "\n",
       "    .dataframe thead th {\n",
       "        text-align: right;\n",
       "    }\n",
       "</style>\n",
       "<table border=\"1\" class=\"dataframe\">\n",
       "  <thead>\n",
       "    <tr style=\"text-align: right;\">\n",
       "      <th></th>\n",
       "      <th>ndfi_magnitude</th>\n",
       "      <th>point_id</th>\n",
       "      <th>tBreak</th>\n",
       "      <th>tEnd</th>\n",
       "      <th>ccdc_change_date</th>\n",
       "      <th>ccdc_magnitude</th>\n",
       "    </tr>\n",
       "  </thead>\n",
       "  <tbody>\n",
       "    <tr>\n",
       "      <th>0</th>\n",
       "      <td>0.0</td>\n",
       "      <td>37369</td>\n",
       "      <td>0.0</td>\n",
       "      <td>1.671840e+12</td>\n",
       "      <td>0</td>\n",
       "      <td>0.0</td>\n",
       "    </tr>\n",
       "  </tbody>\n",
       "</table>\n",
       "</div>"
      ],
      "text/plain": [
       "   ndfi_magnitude  point_id  tBreak          tEnd  ccdc_change_date  \\\n",
       "0             0.0     37369     0.0  1.671840e+12                 0   \n",
       "\n",
       "   ccdc_magnitude  \n",
       "0             0.0  "
      ]
     },
     "execution_count": 13,
     "metadata": {},
     "output_type": "execute_result"
    }
   ],
   "source": [
    "%%time\n",
    "samples = ee.FeatureCollection('users/andreasvollrath/eth_ts_analysis/ethiopia_hex_centroids_dggrid_15')\n",
    "#samples = ee.FeatureCollection('users/andreasvollrath/Belize_MRV/centroid_samples_ISEA3H_16').select('point_id')\n",
    "ccdc_args = []\n",
    "for i in range(0, len(cdf), 10):\n",
    "    \n",
    "    ccdc_args.append([cdf.iloc[i:i+10], samples, config_dict])\n",
    "    \n",
    "result = py_helpers.run_in_parallel(run_ccdc, ccdc_args, workers=20)\n",
    "gdf = pd.concat(result)\n",
    "gdf[\"ccdc_change_date\"] = gdf[\"tBreak\"].apply(lambda x: transform_date(x))\n",
    "gdf[\"ccdc_magnitude\"] = gdf[f\"ndfi_magnitude\"]\n",
    "gdf"
   ]
  },
  {
   "cell_type": "code",
   "execution_count": 54,
   "id": "f4cc4e7c-b2f7-4537-9c92-fcaeb18ad110",
   "metadata": {},
   "outputs": [
    {
     "data": {
      "text/plain": [
       "Index(['geometry', 'point_id', 'dates', 'ts', 'images', 'mon_images',\n",
       "       'bfast_change_date', 'bfast_magnitude', 'bfast_means',\n",
       "       'cusum_change_date', 'cusum_confidence', 'cusum_magnitude', 'ndfi_mean',\n",
       "       'ndfi_sd', 'ndfi_min', 'ndfi_max', 'greenness_mean', 'greenness_sd',\n",
       "       'greenness_min', 'greenness_max', 'bs_slope_mean', 'bs_slope_sd',\n",
       "       'bs_slope_max', 'bs_slope_min', 'ewma_jrc_date', 'ewma_jrc_change',\n",
       "       'ewma_jrc_magnitude', 'mosum_jrc_date', 'mosum_jrc_change',\n",
       "       'mosum_jrc_magnitude', 'cusum_jrc_date', 'cusum_jrc_change',\n",
       "       'cusum_jrc_magnitude', 'ccdc_change_date', 'ccdc_magnitude', 'aspect',\n",
       "       'dw_class_mode', 'dw_tree_prob__max', 'dw_tree_prob__min',\n",
       "       'dw_tree_prob__stdDev', 'dw_tree_prob_mean', 'elevation', 'esa_lc20',\n",
       "       'esri_lc20', 'gfc_gain', 'gfc_loss', 'gfc_lossyear', 'gfc_tc00',\n",
       "       'lang_tree_height', 'potapov_tree_height', 'slope', 'tmf_defyear',\n",
       "       'tmf_degyear', 'tmf_main', 'tmf_sub'],\n",
       "      dtype='object')"
      ]
     },
     "execution_count": 54,
     "metadata": {},
     "output_type": "execute_result"
    }
   ],
   "source": [
    "file = '/home/sepal-user/module_results/esbae/Belize_MRV/04_Data_Augmentation/Landsat/0_change.geojson'\n",
    "df = py_helpers.geojson_to_gdf(file)\n",
    "df.columns"
   ]
  },
  {
   "cell_type": "code",
   "execution_count": 57,
   "id": "42bbc98a-9b69-4f34-8836-636eaf38d692",
   "metadata": {
    "tags": []
   },
   "outputs": [
    {
     "data": {
      "text/plain": [
       "2023.0"
      ]
     },
     "execution_count": 57,
     "metadata": {},
     "output_type": "execute_result"
    }
   ],
   "source": [
    "df.cusum_change_date.max()"
   ]
  },
  {
   "cell_type": "code",
   "execution_count": null,
   "id": "2f897d85-8b91-49ec-a6f3-dd2a35cc4683",
   "metadata": {},
   "outputs": [],
   "source": []
  }
 ],
 "metadata": {
  "kernelspec": {
   "display_name": "pre_esbae",
   "language": "python",
   "name": "pre_esbae"
  },
  "language_info": {
   "codemirror_mode": {
    "name": "ipython",
    "version": 3
   },
   "file_extension": ".py",
   "mimetype": "text/x-python",
   "name": "python",
   "nbconvert_exporter": "python",
   "pygments_lexer": "ipython3",
   "version": "3.8.10"
  }
 },
 "nbformat": 4,
 "nbformat_minor": 5
}
