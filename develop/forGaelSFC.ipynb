{
 "cells": [
  {
   "cell_type": "code",
   "execution_count": null,
   "id": "e78fc2c8-9155-4c81-bb9e-21b4c7a5b0c0",
   "metadata": {},
   "outputs": [],
   "source": [
    "!pip install dask_geopandas"
   ]
  },
  {
   "cell_type": "code",
   "execution_count": 2,
   "id": "4c3b95be-a8b9-4418-9e82-ee19370595a2",
   "metadata": {
    "tags": []
   },
   "outputs": [],
   "source": [
    "import numpy as np\n",
    "import dask_geopandas as dgpd\n",
    "\n",
    "\n",
    "def sfc_subsample(gdf, target_point_size, seed=None):\n",
    "    \"\"\"Space-filling curve\n",
    "\n",
    "    This function takes a GeoDataFrame with Point geometries,\n",
    "    and will return a\n",
    "    \"\"\"\n",
    "\n",
    "    # Check if all geometries are points\n",
    "    is_only_points = all(geom.type == \"Point\" for geom in gdf.geometry)\n",
    "\n",
    "    # Raise an error if not all geometries are points\n",
    "    if not is_only_points:\n",
    "        raise ValueError(\"GeoDataFrame contains non-point geometries\")\n",
    "\n",
    "    # create hilbert curve and sort by distance\n",
    "    dgdf = dgpd.from_geopandas(gdf, npartitions=4)\n",
    "    gdf[\"dist\"] = dgdf.geometry.hilbert_distance()\n",
    "    gdf = gdf.sort_values(\"dist\").reset_index()\n",
    "\n",
    "    # get index and taol population size from which to susample\n",
    "    idx = gdf.index.values\n",
    "    initial_points_size = len(gdf)\n",
    "\n",
    "    # get a division factor (sort of the equivalent to each nth point, but as float)\n",
    "    division_factor = target_point_size / initial_points_size\n",
    "\n",
    "    ### RANDOM INITIALIZATION ###\n",
    "    # a list of points for random start, determined by target and total initial size\n",
    "    max_start = np.ceil(initial_points_size / target_point_size)\n",
    "\n",
    "    # create a list from 0 to max_start\n",
    "    start_list = range(int(max_start))\n",
    "\n",
    "    # define a seed for re-production\n",
    "    if seed:\n",
    "        np.random.seed(seed)\n",
    "\n",
    "    # randomly select a sample for start\n",
    "    start_sample = np.random.choice(start_list)\n",
    "\n",
    "    ### FINAL SELECTION PROCESS ###\n",
    "    # some initialization\n",
    "    to_include, ceil = [], 0\n",
    "\n",
    "    # we need a new starting point after random initialization, as it cannot be i\n",
    "    j = 1\n",
    "    # loop over all points\n",
    "    for i in range(initial_points_size):\n",
    "\n",
    "        # skip until randomly start point\n",
    "        if i < start_sample:\n",
    "            continue\n",
    "\n",
    "        # here we convert the floating division factor into integer\n",
    "        # the first sample will always be included as ceil is 0, j is 1, and division factor is greater than 0\n",
    "        # so 0 != to soemthing > 0\n",
    "        if ceil != np.ceil(j * division_factor):\n",
    "\n",
    "            # we update the ceil for the next selection\n",
    "            ceil = np.ceil(j * division_factor)\n",
    "\n",
    "            # append sample\n",
    "            to_include.append(idx[i])\n",
    "\n",
    "        j += 1\n",
    "\n",
    "    return gdf.loc[to_include]\n"
   ]
  },
  {
   "cell_type": "code",
   "execution_count": null,
   "id": "12a54913-60db-444c-9400-44a9c8204b00",
   "metadata": {},
   "outputs": [],
   "source": [
    "import geopandas as gpd\n",
    "\n",
    "gdf = gpd.read_file('input_file')\n",
    "subgdf = sfc(gdf, target_point_size=513, seed=42)\n",
    "subgdf.to_file('outfile.')"
   ]
  }
 ],
 "metadata": {
  "kernelspec": {
   "display_name": "Python 3",
   "language": "python",
   "name": "python3"
  },
  "language_info": {
   "codemirror_mode": {
    "name": "ipython",
    "version": 3
   },
   "file_extension": ".py",
   "mimetype": "text/x-python",
   "name": "python",
   "nbconvert_exporter": "python",
   "pygments_lexer": "ipython3",
   "version": "3.8.10"
  }
 },
 "nbformat": 4,
 "nbformat_minor": 5
}
