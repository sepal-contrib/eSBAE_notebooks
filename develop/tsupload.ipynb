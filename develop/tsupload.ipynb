{
 "cells": [
  {
   "cell_type": "code",
   "execution_count": 1,
   "id": "da5c8f56-9fd9-4625-9dcf-893af7c2fad1",
   "metadata": {
    "tags": []
   },
   "outputs": [],
   "source": [
    "import ee\n",
    "ee.Initialize(opt_url='https://earthengine-highvolume.googleapis.com')\n",
    "\n",
    "import geemap "
   ]
  },
  {
   "cell_type": "code",
   "execution_count": 2,
   "id": "20236e84-5384-4717-bf0b-e4ba704e3d65",
   "metadata": {
    "tags": []
   },
   "outputs": [],
   "source": [
    "def processing_grid(aoi, grid_size):\n",
    "\n",
    "    boundbox = (\n",
    "        aoi.geometry().bounds().buffer(distance=1, proj=ee.Projection(\"EPSG:4326\"))\n",
    "    )\n",
    "\n",
    "    # return the list of coordinates\n",
    "    list_cords = ee.Array.cat(boundbox.coordinates(), 1)\n",
    "\n",
    "    # get the X and Y -coordinates\n",
    "    x_cords = list_cords.slice(1, 0, 1)\n",
    "    y_cords = list_cords.slice(1, 1, 2)\n",
    "\n",
    "    # reduce the arrays to find the max (or min) value\n",
    "    x_min = x_cords.reduce(\"min\", [0]).get([0, 0])\n",
    "    x_max = x_cords.reduce(\"max\", [0]).get([0, 0])\n",
    "    y_min = y_cords.reduce(\"min\", [0]).get([0, 0])\n",
    "    y_max = y_cords.reduce(\"max\", [0]).get([0, 0])\n",
    "\n",
    "    xx = ee.List.sequence(\n",
    "        x_min, ee.Number(x_max).subtract(ee.Number(grid_size).multiply(0.9)), grid_size\n",
    "    )\n",
    "    yy = ee.List.sequence(\n",
    "        y_min, ee.Number(y_max).subtract(ee.Number(grid_size).multiply(0.9)), grid_size\n",
    "    )\n",
    "\n",
    "    def map_over_x(_x):\n",
    "        def map_over_y(_y):\n",
    "            x1 = ee.Number(_x)\n",
    "            x2 = ee.Number(_x).add(ee.Number(grid_size))\n",
    "            y1 = ee.Number(_y)\n",
    "            y2 = ee.Number(_y).add(ee.Number(grid_size))\n",
    "\n",
    "            cords = ee.List([x1, y1, x2, y2])\n",
    "            rect = ee.Algorithms.GeometryConstructors.Rectangle(\n",
    "                cords, \"EPSG:4326\", False\n",
    "            )\n",
    "            return ee.Feature(rect)\n",
    "\n",
    "        return yy.map(map_over_y)\n",
    "\n",
    "    cells = xx.map(map_over_x).flatten()\n",
    "\n",
    "    return ee.FeatureCollection(cells).filterBounds(aoi)"
   ]
  },
  {
   "cell_type": "code",
   "execution_count": null,
   "id": "c5fa540c-793a-4e38-b266-4a6506aeb9eb",
   "metadata": {
    "tags": []
   },
   "outputs": [],
   "source": [
    "aoi = ee.FeatureCollection(\"USDOS/LSIB/2017\").filter(ee.Filter.Or(\n",
    "    ee.Filter.stringContains('COUNTRY_NA', 'Congo')\n",
    "    #ee.Filter.stringContains('COUNTRY_NA', 'Equatorial Guinea'),\n",
    "    #ee.Filter.stringContains('COUNTRY_NA', 'Gabon'),\n",
    "    #ee.Filter.stringContains('COUNTRY_NA', 'Central African'),\n",
    "    #ee.Filter.stringContains('COUNTRY_NA', 'Cameroon'),\n",
    ")).union(100)"
   ]
  },
  {
   "cell_type": "code",
   "execution_count": 3,
   "id": "4877b503-cb35-41d9-b4ff-760dace1bf7c",
   "metadata": {
    "tags": []
   },
   "outputs": [],
   "source": [
    "from sampling_handler.misc import ee_helpers"
   ]
  },
  {
   "cell_type": "code",
   "execution_count": null,
   "id": "aac466d9-02c0-4613-80ad-22f5887f1690",
   "metadata": {
    "tags": []
   },
   "outputs": [],
   "source": [
    "%%time\n",
    "points_fc = ee.FeatureCollection('users/andreasvollrath/COGSamples').sort('point_id').limit(25000)\n",
    "gmt = '121212'\n",
    "_, points_fc = ee_helpers._ee_export_table(\n",
    "        ee_fc=points_fc,\n",
    "        description=f\"tmp_esbae_points_{gmt}\",\n",
    "        asset_id=f\"tmp_esbae_points_{gmt}\",\n",
    "        sub_folder=f\"tmp_esbae_{gmt}\"\n",
    "    )\n",
    "points_fc = ee.FeatureCollection(points_fc)\n",
    "aoi = ee.FeatureCollection(points_fc.geometry().convexHull(100))\n",
    "\n",
    "\n",
    "#_, aoi = ee_helpers._ee_export_table(\n",
    "#        ee_fc=aoi,\n",
    "#        description=f\"tmp_esbae_aoi_{gmt}\",\n",
    "#        asset_id=f\"tmp_esbae_aoi_{gmt}\",\n",
    "#        sub_folder=f\"tmp_esbae_{gmt}\"\n",
    "#    )\n",
    "aoi = ee.FeatureCollection('users/andreasvollrath/tmp_esbae_121212/tmp_esbae_aoi_121212')\n",
    "#chunks_fc = aoi.coveringGrid(aoi.projection(), 5000)\n",
    "\n",
    "chunks_fc = processing_grid(aoi, 0.05)\n",
    "\n",
    "to_proc = chunks_fc.map(\n",
    "        lambda x: ee.Feature(x).set(\n",
    "            'intersects', points_fc.filterBounds(x.geometry()).size()\n",
    "        )\n",
    "    )\n",
    "to_proc = to_proc.filter(ee.Filter.And(\n",
    "        ee.Filter.gt('intersects', 0),\n",
    "        ee.Filter.lt('intersects', 500)\n",
    "    ))\n",
    "\n",
    "_, to_proc = ee_helpers._ee_export_table(\n",
    "        ee_fc=to_proc,\n",
    "        description=f\"tmp_esbae_grid_{gmt}\",\n",
    "        asset_id=f\"tmp_esbae_grid_{gmt}\",\n",
    "        sub_folder=f\"tmp_esbae_{gmt}\"\n",
    "    )\n",
    "to_proc = ee.FeatureCollection(to_proc)\n",
    "processing_chunks = ee.FeatureCollection(to_proc).aggregate_array('.geo').getInfo()\n",
    "\n",
    "print(processing_chunks) #.toList(processing_chunks.size()).getInfo())"
   ]
  },
  {
   "cell_type": "code",
   "execution_count": null,
   "id": "b8570af9-d896-4279-936f-672e58b5cb75",
   "metadata": {},
   "outputs": [],
   "source": [
    "{'type': 'Feature', 'geometry': {'geodesic': False, 'type': 'Polygon', 'coordinates': [[[10.652077943476744, -4.459033997179562], [11.152077943476744, -4.459033997179562], [11.152077943476744, -3.959033997179562], [10.652077943476744, -3.959033997179562], [10.652077943476744, -4.459033997179562]]]}, 'id': '61', 'properties': {'intersects': 0}}"
   ]
  },
  {
   "cell_type": "code",
   "execution_count": null,
   "id": "e9d1dbd9-5439-4a2c-8b62-2666a71b66a0",
   "metadata": {
    "tags": []
   },
   "outputs": [],
   "source": [
    "Map = geemap.Map(center=(0, 10), zoom=4)\n",
    "Map.addLayer(points_fc)\n",
    "Map.addLayer(chunks_fc)\n",
    "Map"
   ]
  },
  {
   "cell_type": "code",
   "execution_count": null,
   "id": "9f3f8851-20d4-4610-b090-064b02176759",
   "metadata": {},
   "outputs": [],
   "source": [
    "grid = aoi.coveringGrid(aoi.projection(), spacing).filterBounds(aoi)\n",
    "    \n",
    "    "
   ]
  }
 ],
 "metadata": {
  "kernelspec": {
   "display_name": "pre_esbae",
   "language": "python",
   "name": "pre_esbae"
  },
  "language_info": {
   "codemirror_mode": {
    "name": "ipython",
    "version": 3
   },
   "file_extension": ".py",
   "mimetype": "text/x-python",
   "name": "python",
   "nbconvert_exporter": "python",
   "pygments_lexer": "ipython3",
   "version": "3.8.10"
  }
 },
 "nbformat": 4,
 "nbformat_minor": 5
}
