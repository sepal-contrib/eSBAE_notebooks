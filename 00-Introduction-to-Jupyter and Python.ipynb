{
 "cells": [
  {
   "cell_type": "markdown",
   "id": "01fe3004-e2ca-40a4-832a-e33c93653ac6",
   "metadata": {},
   "source": [
    "### Introduction: This notebook should be used by those new to Jupyter Notebooks and interpreting Python scripts."
   ] 
 {
   "cell_type": "markdown",
   "id": "91e90777-4df1-400f-9a9f-96c67b2594c4",
   "metadata": {
    "tags": []
   },
   "source": [
    "### Introduction to Jupyter Notebooks and Python"
   ]
  },
  {
   "cell_type": "code",
   "execution_count": null,
   "id": "cb300788-8e41-4e44-8cac-d8691031f681",
   "metadata": {
    "tags": []
   },
   "outputs": [],
   "source": [
    "from IPython.display import YouTubeVideo\n",
    "YouTubeVideo(\"A5YyoCKxEOU\", width=720, start=106)"
   ]
  },
  {
   "cell_type": "markdown",
   "id": "01fe3004-e2ca-40a4-832a-e33c93653ac6",
   "metadata": {},
   "source": [
    "#### 1- Basic datatypes"
   ]
  },
  {
   "cell_type": "markdown",
   "id": "06c328cc-b907-4e24-adc2-a00e7840ffe9",
   "metadata": {
    "tags": []
   },
   "source": [
    "##### Boolean (True/False)"
   ]
  },
  {
   "cell_type": "code",
   "execution_count": null,
   "id": "5fe88e50-b14f-4ea2-8fdc-2acec48188f4",
   "metadata": {
    "tags": []
   },
   "outputs": [],
   "source": [
    "variable_1 = True\n",
    "print(type(variable_1))"
   ]
  },
  {
   "cell_type": "markdown",
   "id": "731eeb72-5277-475d-a40a-10e8320c6832",
   "metadata": {
    "tags": []
   },
   "source": [
    "##### Integer Number"
   ]
  },
  {
   "cell_type": "code",
   "execution_count": null,
   "id": "39946a8e-9ba2-4cc3-9674-8e9ec912c45b",
   "metadata": {
    "tags": []
   },
   "outputs": [],
   "source": [
    "variable_2 = 1\n",
    "print(type(variable_2))"
   ]
  },
  {
   "cell_type": "markdown",
   "id": "38c9b93f-1a7a-45e5-8ec5-694b15d39582",
   "metadata": {
    "tags": []
   },
   "source": [
    "##### Float number"
   ]
  },
  {
   "cell_type": "code",
   "execution_count": null,
   "id": "5261178b-3d32-4856-919f-054ce187b0a3",
   "metadata": {
    "tags": []
   },
   "outputs": [],
   "source": [
    "variable_3 = 3.14\n",
    "print(type(variable_3))"
   ]
  },
  {
   "cell_type": "markdown",
   "id": "420601af-3070-48ff-8c54-00ef1717c36a",
   "metadata": {},
   "source": [
    "##### String"
   ]
  },
  {
   "cell_type": "code",
   "execution_count": null,
   "id": "5d4c9578-6073-42d3-ba3b-2fe8c0337627",
   "metadata": {
    "tags": []
   },
   "outputs": [],
   "source": [
    "variable_3 = 'I am a string'\n",
    "print(type(variable_3))"
   ]
  },
  {
   "cell_type": "markdown",
   "id": "1241848e-2d4e-4646-87a6-326def390800",
   "metadata": {},
   "source": [
    "#### 2 - Advanced data types"
   ]
  },
  {
   "cell_type": "markdown",
   "id": "aa6d7470-14fb-44e6-b4b0-8f291f8aba48",
   "metadata": {
    "tags": []
   },
   "source": [
    "##### List"
   ]
  },
  {
   "cell_type": "code",
   "execution_count": null,
   "id": "1ad806b7-415d-4d9a-804a-e650aa887526",
   "metadata": {
    "tags": []
   },
   "outputs": [],
   "source": [
    "l = [1, 2, 3, 4]\n",
    "print(type(l))"
   ]
  },
  {
   "cell_type": "markdown",
   "id": "21b3f5db-bb64-41d8-b6b5-1ac0553b6f86",
   "metadata": {
    "tags": []
   },
   "source": [
    "##### Dictionary"
   ]
  },
  {
   "cell_type": "code",
   "execution_count": null,
   "id": "a7a32e48-a64b-40b5-affb-e8a655eef4d2",
   "metadata": {
    "tags": []
   },
   "outputs": [],
   "source": [
    "d = {'Fruits': ['Apple', 'Orange', 'Banana'], 'Vegetables': ['Cucumber', 'Carot', 'Spinache']}\n",
    "print(type(d))"
   ]
  },
  {
   "cell_type": "markdown",
   "id": "bec8251c-fa5a-416a-97d6-bd80e4f064b7",
   "metadata": {},
   "source": [
    "##### Pandas DataFrame"
   ]
  },
  {
   "cell_type": "code",
   "execution_count": null,
   "id": "f7dd4670-1b25-4c07-b285-7fc85b8be104",
   "metadata": {
    "tags": []
   },
   "outputs": [],
   "source": [
    "import pandas as pd\n",
    "\n",
    "display(pd.DataFrame.from_dict(d))\n",
    "\n",
    "display(pd.DataFrame.from_dict(d, orient='index'))"
   ]
  }
 ],
 "metadata": {
  "kernelspec": {
   "display_name": "Python 3",
   "language": "python",
   "name": "python3"
  },
  "language_info": {
   "codemirror_mode": {
    "name": "ipython",
    "version": 3
   },
   "file_extension": ".py",
   "mimetype": "text/x-python",
   "name": "python",
   "nbconvert_exporter": "python",
   "pygments_lexer": "ipython3",
   "version": "3.8.10"
  }
 },
 "nbformat": 4,
 "nbformat_minor": 5
}
