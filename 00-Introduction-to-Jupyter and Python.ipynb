{
 "cells": [
  {
   "cell_type": "markdown",
   "id": "01fe3004-e2ca-40a4-832a-e33c93653ac6",
   "metadata": {},
   "source": [
    "### Introduction: This notebook should be used by those new to Jupyter Notebooks and interpreting Python scripts."
   ]
  },
  {
   "cell_type": "markdown",
   "id": "91e90777-4df1-400f-9a9f-96c67b2594c4",
   "metadata": {
    "tags": []
   },
   "source": [
    "### Introduction to Jupyter Notebooks and Python"
   ]
  },
  {
   "cell_type": "markdown",
   "id": "805e701d-327b-43b9-a4ae-c622352b0cf4",
   "metadata": {},
   "source": [
    "Jupyter Notebooks are documents that contain both rich text elements (formatted using Markdown) and computer code elements (which can be executed and display outputs within the notebook). \n",
    "\n",
    "Use the ‘play icon’ button above to run each cell when it is selected, or use the keyboard shortcut of Ctrl+Enter. Alternatively, use Shift+Enter to run the cell and move to the next cell. \n",
    "\n",
    "An unexecuted code cell will have an empty set of square brackets left of it, this will change to an asterisk in brackets while it is running, and a number in brackets when it completes."
   ]
  },
  {
   "cell_type": "code",
   "execution_count": 5,
   "id": "bcbddf89-a8aa-4f21-81d3-65851bba0220",
   "metadata": {
    "tags": []
   },
   "outputs": [
    {
     "data": {
      "image/jpeg": "[encoded data removed]",
      "text/html": [
       "\n",
       "        <iframe\n",
       "            width=\"720\"\n",
       "            height=\"300\"\n",
       "            src=\"https://www.youtube.com/embed/A5YyoCKxEOU?start=106\"\n",
       "            frameborder=\"0\"\n",
       "            allowfullscreen\n",
       "            \n",
       "        ></iframe>\n",
       "        "
      ],
      "text/plain": [
       "<IPython.lib.display.YouTubeVideo at 0x7f200c599810>"
      ]
     },
     "execution_count": 5,
     "metadata": {},
     "output_type": "execute_result"
    }
   ],
   "source": [
    "from IPython.display import YouTubeVideo\n",
    "YouTubeVideo(\"A5YyoCKxEOU\", width=720, start=106)"
   ]
  },
  {
   "cell_type": "markdown",
   "id": "7407875a",
   "metadata": {},
   "source": [
    "#### 1- Basic datatypes"
   ]
  },
  {
   "cell_type": "markdown",
   "id": "8243b7a8-b869-4fac-8c09-c4bcc04e2a1d",
   "metadata": {},
   "source": [
    "Below, explore the data types that can be used, and how they are written using Python syntax."
   ]
  },
  {
   "cell_type": "markdown",
   "id": "06c328cc-b907-4e24-adc2-a00e7840ffe9",
   "metadata": {
    "tags": []
   },
   "source": [
    "##### Boolean (True/False)"
   ]
  },
  {
   "cell_type": "code",
   "execution_count": 6,
   "id": "5fe88e50-b14f-4ea2-8fdc-2acec48188f4",
   "metadata": {
    "tags": []
   },
   "outputs": [
    {
     "name": "stdout",
     "output_type": "stream",
     "text": [
      "<class 'bool'>\n"
     ]
    }
   ],
   "source": [
    "variable_1 = True\n",
    "print(type(variable_1))"
   ]
  },
  {
   "cell_type": "markdown",
   "id": "731eeb72-5277-475d-a40a-10e8320c6832",
   "metadata": {
    "tags": []
   },
   "source": [
    "##### Integer number"
   ]
  },
  {
   "cell_type": "code",
   "execution_count": 7,
   "id": "39946a8e-9ba2-4cc3-9674-8e9ec912c45b",
   "metadata": {
    "tags": []
   },
   "outputs": [
    {
     "name": "stdout",
     "output_type": "stream",
     "text": [
      "<class 'int'>\n"
     ]
    }
   ],
   "source": [
    "variable_2 = 1\n",
    "print(type(variable_2))"
   ]
  },
  {
   "cell_type": "markdown",
   "id": "38c9b93f-1a7a-45e5-8ec5-694b15d39582",
   "metadata": {
    "tags": []
   },
   "source": [
    "##### Float number"
   ]
  },
  {
   "cell_type": "code",
   "execution_count": 8,
   "id": "5261178b-3d32-4856-919f-054ce187b0a3",
   "metadata": {
    "tags": []
   },
   "outputs": [
    {
     "name": "stdout",
     "output_type": "stream",
     "text": [
      "<class 'float'>\n"
     ]
    }
   ],
   "source": [
    "variable_3 = 3.14\n",
    "print(type(variable_3))"
   ]
  },
  {
   "cell_type": "markdown",
   "id": "420601af-3070-48ff-8c54-00ef1717c36a",
   "metadata": {},
   "source": [
    "##### String"
   ]
  },
  {
   "cell_type": "code",
   "execution_count": 9,
   "id": "5d4c9578-6073-42d3-ba3b-2fe8c0337627",
   "metadata": {
    "tags": []
   },
   "outputs": [
    {
     "name": "stdout",
     "output_type": "stream",
     "text": [
      "<class 'str'>\n"
     ]
    }
   ],
   "source": [
    "variable_3 = 'I am a string'\n",
    "print(type(variable_3))"
   ]
  },
  {
   "cell_type": "markdown",
   "id": "1241848e-2d4e-4646-87a6-326def390800",
   "metadata": {},
   "source": [
    "#### 2 - Advanced data types"
   ]
  },
  {
   "cell_type": "markdown",
   "id": "aa6d7470-14fb-44e6-b4b0-8f291f8aba48",
   "metadata": {
    "tags": []
   },
   "source": [
    "##### List\n",
    "A list is an ordered sequence of elements stored as a single variable. The elements in a list, denoted by square brackets can be numbers or strings."
   ]
  },
  {
   "cell_type": "code",
   "execution_count": 10,
   "id": "1ad806b7-415d-4d9a-804a-e650aa887526",
   "metadata": {
    "tags": []
   },
   "outputs": [
    {
     "name": "stdout",
     "output_type": "stream",
     "text": [
      "<class 'list'>\n"
     ]
    }
   ],
   "source": [
    "l = [1, 2, 3, 4]\n",
    "print(type(l))"
   ]
  },
  {
   "cell_type": "markdown",
   "id": "21b3f5db-bb64-41d8-b6b5-1ac0553b6f86",
   "metadata": {
    "tags": []
   },
   "source": [
    "##### Dictionary\n",
    "A dictionary stores a key for your data, also called an associative array. It is a set of information of key identifiers and the associated value or values."
   ]
  },
  {
   "cell_type": "code",
   "execution_count": 11,
   "id": "a7a32e48-a64b-40b5-affb-e8a655eef4d2",
   "metadata": {
    "tags": []
   },
   "outputs": [
    {
     "name": "stdout",
     "output_type": "stream",
     "text": [
      "<class 'dict'>\n"
     ]
    }
   ],
   "source": [
    "d = {'Fruits': ['Apple', 'Orange', 'Banana'], 'Vegetables': ['Cucumber', 'Carrot', 'Spinach']}\n",
    "print(type(d))"
   ]
  },
  {
   "cell_type": "markdown",
   "id": "bec8251c-fa5a-416a-97d6-bd80e4f064b7",
   "metadata": {},
   "source": [
    "##### Pandas DataFrame\n",
    "A pandas data frame is a two dimensional data structure, a table with labels for the rows and columns. Pandas is a Python data library that you must import before being able to use its tools for data viewing and analysis."
   ]
  },
  {
   "cell_type": "code",
   "execution_count": 12,
   "id": "f7dd4670-1b25-4c07-b285-7fc85b8be104",
   "metadata": {
    "tags": []
   },
   "outputs": [
    {
     "data": {
      "text/html": [
       "<div>\n",
       "<style scoped>\n",
       "    .dataframe tbody tr th:only-of-type {\n",
       "        vertical-align: middle;\n",
       "    }\n",
       "\n",
       "    .dataframe tbody tr th {\n",
       "        vertical-align: top;\n",
       "    }\n",
       "\n",
       "    .dataframe thead th {\n",
       "        text-align: right;\n",
       "    }\n",
       "</style>\n",
       "<table border=\"1\" class=\"dataframe\">\n",
       "  <thead>\n",
       "    <tr style=\"text-align: right;\">\n",
       "      <th></th>\n",
       "      <th>Fruits</th>\n",
       "      <th>Vegetables</th>\n",
       "    </tr>\n",
       "  </thead>\n",
       "  <tbody>\n",
       "    <tr>\n",
       "      <th>0</th>\n",
       "      <td>Apple</td>\n",
       "      <td>Cucumber</td>\n",
       "    </tr>\n",
       "    <tr>\n",
       "      <th>1</th>\n",
       "      <td>Orange</td>\n",
       "      <td>Carrot</td>\n",
       "    </tr>\n",
       "    <tr>\n",
       "      <th>2</th>\n",
       "      <td>Banana</td>\n",
       "      <td>Spinach</td>\n",
       "    </tr>\n",
       "  </tbody>\n",
       "</table>\n",
       "</div>"
      ],
      "text/plain": [
       "   Fruits Vegetables\n",
       "0   Apple   Cucumber\n",
       "1  Orange     Carrot\n",
       "2  Banana    Spinach"
      ]
     },
     "metadata": {},
     "output_type": "display_data"
    },
    {
     "data": {
      "text/html": [
       "<div>\n",
       "<style scoped>\n",
       "    .dataframe tbody tr th:only-of-type {\n",
       "        vertical-align: middle;\n",
       "    }\n",
       "\n",
       "    .dataframe tbody tr th {\n",
       "        vertical-align: top;\n",
       "    }\n",
       "\n",
       "    .dataframe thead th {\n",
       "        text-align: right;\n",
       "    }\n",
       "</style>\n",
       "<table border=\"1\" class=\"dataframe\">\n",
       "  <thead>\n",
       "    <tr style=\"text-align: right;\">\n",
       "      <th></th>\n",
       "      <th>0</th>\n",
       "      <th>1</th>\n",
       "      <th>2</th>\n",
       "    </tr>\n",
       "  </thead>\n",
       "  <tbody>\n",
       "    <tr>\n",
       "      <th>Fruits</th>\n",
       "      <td>Apple</td>\n",
       "      <td>Orange</td>\n",
       "      <td>Banana</td>\n",
       "    </tr>\n",
       "    <tr>\n",
       "      <th>Vegetables</th>\n",
       "      <td>Cucumber</td>\n",
       "      <td>Carrot</td>\n",
       "      <td>Spinach</td>\n",
       "    </tr>\n",
       "  </tbody>\n",
       "</table>\n",
       "</div>"
      ],
      "text/plain": [
       "                   0       1        2\n",
       "Fruits         Apple  Orange   Banana\n",
       "Vegetables  Cucumber  Carrot  Spinach"
      ]
     },
     "metadata": {},
     "output_type": "display_data"
    }
   ],
   "source": [
    "import pandas as pd\n",
    "\n",
    "display(pd.DataFrame.from_dict(d))\n",
    "\n",
    "display(pd.DataFrame.from_dict(d, orient='index'))"
   ]
  }
 ],
 "metadata": {
  "kernelspec": {
   "display_name": " (venv) Sample Based Area Estimation",
   "language": "python",
   "name": "venv-esbae_notebooks"
  },
  "language_info": {
   "codemirror_mode": {
    "name": "ipython",
    "version": 3
   },
   "file_extension": ".py",
   "mimetype": "text/x-python",
   "name": "python",
   "nbconvert_exporter": "python",
   "pygments_lexer": "ipython3",
   "version": "3.10.12"
  }
 },
 "nbformat": 4,
 "nbformat_minor": 5
}
