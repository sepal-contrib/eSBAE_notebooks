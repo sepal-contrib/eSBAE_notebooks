{
 "cells": [
  {
   "cell_type": "markdown",
   "id": "343023de-625a-49f5-a89b-b8ad3892ff54",
   "metadata": {},
   "source": [
    "<font face=\"Calibri\" size=\"2\"> <i>SBAE - Notebook Series - Part I, version 0.3,  May 2023. Andreas Vollrath, Daniel Wiell, Javier Garcia-Perez, Laura D'Aietti, Remi D'Annunzio - UN-Food and Agricultural Organization, Rome</i>\n",
    "</font>"
   ]
  },
  {
   "cell_type": "markdown",
   "id": "72ae768b-c3d6-4380-98a2-c12ffc4bf5d9",
   "metadata": {
    "tags": []
   },
   "source": [
    "![title](images/header.png)\n",
    "\n",
    "# I - Pre-analysis\n",
    "### Forest and Deforestation statistics, sample size and error calculation & simulation \n",
    "-------\n",
    "\n",
    "\n",
    "This notebook provides code and functions for the extraction of some basic information on forest statistics for a give area of interest as well as sample size and error calculations. It is structured in the following parts:\n",
    "    \n",
    "1. Forest area and deforestation statistics according to Global Forest Change product ([Hansen et al 2013](https://10.1126/science.1244693))\n",
    "2. Theoretical sample size and error calculation according to Cochran for capturing deforestation events\n",
    "3. Simulation of sampling error based on Global Forest Change product\n",
    "\n",
    "Most of the data and functionality is coming from [Google Earth Engine](https://earthengine.google.com), for which you will need a valid account. It is possible to freely sign up [here](https://code.earthengine.google.com/register)."
   ]
  },
  {
   "cell_type": "markdown",
   "id": "fe7781bc-620f-4212-a8ec-bd63677eae0a",
   "metadata": {},
   "source": [
    "## Introduction to eSBAE notebooks (first time users, read carefully)\n",
    "\n",
    "The E-SBAE notebooks are a series of Jupyter notebooks intended to streamline the process of creating activity data for measurement, reporting, and verification of REDD+ and other carbon standards. \n",
    "\n",
    "E-SBAE is mainly based on the sampling-handler python library that provides all the necessary underlying functionality. While the notebooks take away the heavy burden of coding each single element, you will only need to declare some basic input variables that define your custom needs. This means you **do not need** to be a an experienced python programmer, but a basic understanding does help.\n",
    "\n",
    "You will notice that the structure of each notebook is fairly similar, with only the parameter settings adapting for the current step. You can also use individual parts for specific purposes, but going through each of the notebooks consecutively ensures the best way for a smooth execution of the entire process.\n",
    "\n",
    "There are two elements that tie the outputs of each notebook together - the ***Project Name*** and an underlying ***configuration file***. This not only eases the interaction but also ensures transparency, reproducibility, and interaction between different steps/notebooks. "
   ]
  },
  {
   "cell_type": "code",
   "execution_count": null,
   "id": "276031cd-d234-433a-953d-9b88111e3498",
   "metadata": {
    "tags": []
   },
   "outputs": [],
   "source": [
    "import ee \n",
    "# initialize EE    \n",
    "try:\n",
    "    ee.Initialize()\n",
    "except:\n",
    "    ee.Authenticate()\n",
    "    ee.Initialize()\n",
    "\n",
    "from sampling_handler import SampleSize"
   ]
  },
  {
   "cell_type": "markdown",
   "id": "4055989a-350f-46f5-a3c8-ece6401792a5",
   "metadata": {},
   "source": [
    "### 1 - Basic Parameter Settings\n",
    "\n",
    "In the following cell you will define some of the key parameters to create the subsequent forest statistics. \n",
    "\n",
    "1. Project Name: This will not only give your work a name, but it also defines the output folder within the module_results/esbae (if you are on SEPAL), as well as a directory within your Earth Engine assets. **NOTE** that it shall not contain any space.\n",
    "\n",
    "2. Area of Interest (AOI): Your AOI defines the spatial extent for which the data will be generated and analysed. It can come in different formats, such as a (filtered) Earth Engine feature collection, an OGR compatible geospatial data format (e.g. Shapefile, Geopackage, KML, GeoJSON), or a geopandas GeoDataFrame opject.\n",
    "\n",
    "3. Start and end year will define the temporal extent, for which deforestation areas are extracted from the GFC product. This area will ultimately be used to determine the sampling size based on Cochran's equation.\n",
    "\n",
    "4. Tree cover and mmu determine by which threshholds the GFC product will be filtered in order to consider a (set of) pixels as forest. Values are set in percentage and hectare."
   ]
  },
  {
   "cell_type": "code",
   "execution_count": null,
   "id": "c9fbef74-02de-4fbd-bf11-b6197e26ab06",
   "metadata": {},
   "outputs": [],
   "source": [
    "# Here goes your project's name (without spaces)\n",
    "project_name = 'my_first_esbae_project'\n",
    "\n",
    "# Area of Interest (various options, e.g. shapefile, geodataframe, ee FeatureCollection)\n",
    "# Example uses a filtered Earth Egnine Feature Collection\n",
    "country = 'Costa Rica'\n",
    "gaul = ee.FeatureCollection(\"FAO/GAUL/2015/level1\")\n",
    "aoi = gaul.filter(ee.Filter.eq(\"ADM0_NAME\", country)).union()\n",
    "\n",
    "# envisaged FREL/change assessment period (years are inclusive)\n",
    "start_year = 2016       # YYYY format\n",
    "end_year = 2022         # YYYY format\n",
    "\n",
    "# forest definition\n",
    "tree_cover = 10         # in percentage\n",
    "mmu = 0.5               # in hectare "
   ]
  },
  {
   "cell_type": "markdown",
   "id": "2e6a3f56-5000-425a-a6f5-78c19c23ccc2",
   "metadata": {},
   "source": [
    "### 2 - initializing the Sample Size class instance\n",
    "\n",
    "This is to update the configuration file, nothing needs to be changed here."
   ]
  },
  {
   "cell_type": "code",
   "execution_count": null,
   "id": "9e6be2a3-88b9-4343-b46d-d432f78aaa1a",
   "metadata": {},
   "outputs": [],
   "source": [
    "esbae = SampleSize(\n",
    "    project_name=project_name,\n",
    "    aoi=aoi,\n",
    "    start=start_year,\n",
    "    end=end_year,\n",
    "    tree_cover=tree_cover,\n",
    "    mmu=mmu\n",
    ")"
   ]
  },
  {
   "cell_type": "markdown",
   "id": "999d1318-5e9d-4acc-ab4a-af2f41bdebc9",
   "metadata": {
    "tags": []
   },
   "source": [
    "### 3 - Extract Forest Area and Annual Deforestation \n",
    "\n",
    "#### 3.1 Using Global Forest Change product\n",
    "\n",
    "Using the following routine, Forest Area will be determined according to the start year and the tree cover percentage. Tree cover loss statistics are taken from the period that spans between start and end year."
   ]
  },
  {
   "cell_type": "code",
   "execution_count": null,
   "id": "2a0bcdc5-1d54-43ce-a87e-ff7a20135884",
   "metadata": {},
   "outputs": [],
   "source": [
    "# get area statistics from Hansen's GFC data from Google Earth Engine\n",
    "esbae.gfc_areas(save_figure=True)"
   ]
  },
  {
   "cell_type": "markdown",
   "id": "907b31e0-e2da-4292-8f89-e0ca5f840b1f",
   "metadata": {},
   "source": [
    "### 4. Sample Size Calculation according to Cochran\n",
    "\n",
    "By providing a target error and confidence interval, the minimum sample size is calculated based on the forest area statistics created above. The calculation is done both, for forest area as well as forest change, based on the Cochran formula for sample size ([Cochran 1963](https://onlinelibrary.wiley.com/doi/10.1002/zamm.19630431039))."
   ]
  },
  {
   "cell_type": "markdown",
   "id": "f3d620b2-3038-4bb3-80ca-ebb0da5bd529",
   "metadata": {},
   "source": [
    "#### 4.1 - Calculate the margin of error and grid spacing"
   ]
  },
  {
   "cell_type": "code",
   "execution_count": null,
   "id": "a9b815bf-0c69-47f0-9be2-46435d4f169f",
   "metadata": {
    "tags": []
   },
   "outputs": [],
   "source": [
    "esbae.target_error = 10     # in percentage\n",
    "esbae.confidence = 95    # in percentage\n",
    "\n",
    "esbae.minimum_sample_size(save_figure=True)"
   ]
  },
  {
   "cell_type": "markdown",
   "id": "a893b86e-a059-44d4-b31c-155220bf2fe4",
   "metadata": {},
   "source": [
    "### 5 - Simulation of sampling errors (bias and uncertainty)"
   ]
  },
  {
   "cell_type": "code",
   "execution_count": null,
   "id": "0b0d70e8-29b0-4e50-85ec-29212c9f4733",
   "metadata": {
    "tags": []
   },
   "outputs": [],
   "source": [
    "esbae.spacings =    [1000, 2000, 4000]      # grid spacings to simulate\n",
    "esbae.scales =      [30, 70, 100]            # mmus to simulate\n",
    "esbae.runs =        25                           # nr of times a each simulation is run\n",
    "esbae.random_seed = 42                           # a random seed for reproducability\n",
    "\n",
    "esbae.simulated_sampling_error(save_figure=True)"
   ]
  }
 ],
 "metadata": {
  "kernelspec": {
   "display_name": " (venv) Sample Based Area Estimation",
   "language": "python",
   "name": "venv-esbae_notebooks"
  },
  "language_info": {
   "codemirror_mode": {
    "name": "ipython",
    "version": 3
   },
   "file_extension": ".py",
   "mimetype": "text/x-python",
   "name": "python",
   "nbconvert_exporter": "python",
   "pygments_lexer": "ipython3",
   "version": "3.8.10"
  }
 },
 "nbformat": 4,
 "nbformat_minor": 5
}
