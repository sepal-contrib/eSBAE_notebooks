{
 "cells": [
  {
   "cell_type": "markdown",
   "id": "7aa32761-c997-4a1a-b935-0fa22fd33e96",
   "metadata": {},
   "source": [
    "<font face='Calibri' size='2'> <i>eSBAE - Notebook Series - Part 4, version 0.1, April 2023. Andreas Vollrath, UN-Food and Agricultural Organization, Rome</i>\n",
    "</font>"
   ]
  },
  {
   "cell_type": "markdown",
   "id": "c5b64a68-7429-427e-9eb9-fcb16d592cef",
   "metadata": {
    "tags": []
   },
   "source": [
    "![title](images/header.png)\n",
    "\n",
    "# IV - eSBAE Data Augmentation\n",
    "### Run various change detection algorithms on previously extracted time-series data\n",
    "-------\n",
    "\n",
    "This notebook takes you through the process of running various change detection algorithms for a set of points using [Google's Earth Engine](https://earthengine.google.com/) as well as python routines. The script is optimized to deal with thousands of points and will use parallelization to efficiently extract the information from the platform.\n",
    "\n",
    "**You will need**:\n",
    "- a valid Earth Engine account ([sign up here](https://code.earthengine.google.com/register))\n",
    "- having successfully executed Notebook 3 of the eSBAE notebook series\n",
    "\n",
    "**This notebook runs best on a m16 instance**"
   ]
  },
  {
   "cell_type": "code",
   "execution_count": null,
   "id": "97ab0346-577d-4a97-a5aa-31e45d1aa944",
   "metadata": {
    "tags": []
   },
   "outputs": [],
   "source": [
    "# initialize EE    \n",
    "import ee\n",
    "try:\n",
    "    ee.Initialize(opt_url='https://earthengine-highvolume.googleapis.com')\n",
    "except:\n",
    "    ee.Authenticate()\n",
    "    ee.Initialize(opt_url='https://earthengine-highvolume.googleapis.com')\n",
    "    \n",
    "from sampling_handler import DataAugmentation"
   ]
  },
  {
   "cell_type": "code",
   "execution_count": null,
   "id": "cc9b2066-0522-4871-b0f1-c974f1c998e4",
   "metadata": {
    "tags": []
   },
   "outputs": [],
   "source": [
    "# Directory where output and temp files will go\n",
    "esbae = DataAugmentation(\n",
    "    \n",
    "    # your project name, as set in previous notebooks\n",
    "    project_name = 'my_first_esbae_project',\n",
    "\n",
    "    # start of calibration period (mainly for bfast)\n",
    "    calibration_start = '2015-01-01',  # YYYY-MM-DD format\n",
    "\n",
    "    # Actual period of interest, i.e. monitoring period\n",
    "    monitor_start =  '2020-01-01',  # YYYY-MM-DD format\n",
    "    monitor_end   =  '2023-01-01',  # YYYY-MM-DD format\n",
    "\n",
    "    # select the band for univariate ts-analysis (has to be inside bands list)\n",
    "    ts_band = 'ndfi'\n",
    ")"
   ]
  },
  {
   "cell_type": "markdown",
   "id": "26756c74-adc4-419e-8275-830f20950918",
   "metadata": {},
   "source": [
    "### Basic settings"
   ]
  },
  {
   "cell_type": "code",
   "execution_count": null,
   "id": "baceb4a8-f516-44c4-b137-b9f93045d919",
   "metadata": {
    "tags": []
   },
   "outputs": [],
   "source": [
    "# select basic pre-processing options\n",
    "esbae.outlier_removal =     True\n",
    "esbae.smooth_ts =           True\n",
    "\n",
    "# Select the algorithms to run\n",
    "esbae.run_cusum =           True\n",
    "esbae.run_bfast =           True\n",
    "esbae.run_ts_metrics =      True\n",
    "esbae.run_bs_slope =        True\n",
    "esbae.run_jrc_nrt =         True\n",
    "esbae.run_ccdc =            True\n",
    "esbae.run_land_trendr =     False     # not yet implemented\n",
    "esbae.run_global_products = True"
   ]
  },
  {
   "cell_type": "markdown",
   "id": "90323e10-ebc2-420e-ae40-310e9739ef44",
   "metadata": {
    "tags": []
   },
   "source": [
    "### 4- Advanced Settings"
   ]
  },
  {
   "cell_type": "code",
   "execution_count": null,
   "id": "62c5c84a-907b-4dd1-96bf-ef7227620fbf",
   "metadata": {},
   "outputs": [],
   "source": [
    "esbae.bfast = {\n",
    "    'run': esbae.run_bfast,\n",
    "    'start_monitor': esbae.monitor_start,\n",
    "    'freq': 365,\n",
    "    'k': 3,\n",
    "    'hfrac': 0.25,\n",
    "    'trend': True,\n",
    "    'level': 0.05,\n",
    "    'backend': 'python'\n",
    "}\n",
    "\n",
    "esbae.cusum = {\n",
    "    'run': esbae.run_cusum,\n",
    "    'nr_of_bootstraps': 1000\n",
    "}\n",
    "\n",
    "esbae.bs_slope = {\n",
    "    'run': esbae.run_bs_slope,\n",
    "    'nr_of_bootstraps': 1000\n",
    "}\n",
    "\n",
    "esbae.ts_metrics = {\n",
    "    'run': esbae.run_ts_metrics,\n",
    "    'bands': ['red', 'nir', 'swir1', 'swir2', 'ndfi', 'brightness', 'greenness', 'wetness'],\n",
    "    'metrics': ['mean', 'stddev', 'min', 'max'],  # DO NOT CHANGE YET\n",
    "    'outlier_removal': False,\n",
    "    'z_threshhold': 3\n",
    "}\n",
    "\n",
    "esbae.ccdc = {\n",
    "    'run': esbae.run_ccdc,\n",
    "    'breakpointBands': ['green', 'red', 'nir', 'swir1', 'swir2'],\n",
    "    'tmaskBands': ['green', 'swir2'],\n",
    "    'minObservations': 6,\n",
    "    'chiSquareProbability': 0.99,\n",
    "    'minNumOfYearsScaler': 1,\n",
    "    'dateFormat': 2,\n",
    "    'lambda': 20,\n",
    "    'maxIterations': 1000\n",
    "}\n",
    "\n",
    "esbae.land_trendr = {\n",
    "    'run': esbae.run_land_trendr,\n",
    "    'maxSegments': 6,\n",
    "    'spikeThreshold': 0.9,\n",
    "    'vertexCountOvershoot': 3,\n",
    "    'preventOneYearRecovery': True,\n",
    "    'recoveryThreshold': 0.25,\n",
    "    'pvalThreshold': 0.05,\n",
    "    'bestModelProportion': 0.75,\n",
    "    'minObservationsNeeded': 3\n",
    "}\n",
    "\n",
    "esbae.jrc_nrt = {\n",
    "    'run': esbae.run_jrc_nrt\n",
    "}\n",
    "\n",
    "esbae.global_products = {\n",
    "    'run': esbae.run_global_products,\n",
    "    'gfc': True,\n",
    "    'tmf': True,\n",
    "    'tmf_years': True,\n",
    "    'esa_lc20': True,\n",
    "    'copernicus_lc': True,\n",
    "    'esri_lc': True,\n",
    "    'lang_tree_height': True,\n",
    "    'potapov_tree_height': True,\n",
    "    'elevation': True,\n",
    "    'dynamic_world_tree_prob': True,\n",
    "    'dynamic_world_class_mode': True\n",
    "}\n",
    "\n",
    "esbae.py_workers = 100\n",
    "esbae.ee_workers = 20"
   ]
  },
  {
   "cell_type": "markdown",
   "id": "0b28743c-e512-4c3e-8907-83b0b4385d95",
   "metadata": {},
   "source": [
    "### 5 - Run the data augmentation"
   ]
  },
  {
   "cell_type": "code",
   "execution_count": null,
   "id": "c6a92940-b2ae-4640-9287-3ffcdd13be4a",
   "metadata": {
    "tags": []
   },
   "outputs": [],
   "source": [
    "esbae.augment()"
   ]
  }
 ],
 "metadata": {
  "kernelspec": {
   "display_name": "pre_esbae",
   "language": "python",
   "name": "pre_esbae"
  },
  "language_info": {
   "codemirror_mode": {
    "name": "ipython",
    "version": 3
   },
   "file_extension": ".py",
   "mimetype": "text/x-python",
   "name": "python",
   "nbconvert_exporter": "python",
   "pygments_lexer": "ipython3",
   "version": "3.8.10"
  }
 },
 "nbformat": 4,
 "nbformat_minor": 5
}
