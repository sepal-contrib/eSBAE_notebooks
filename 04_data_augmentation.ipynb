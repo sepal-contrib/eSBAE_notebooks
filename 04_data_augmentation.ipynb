{
 "cells": [
  {
   "cell_type": "markdown",
   "id": "7aa32761-c997-4a1a-b935-0fa22fd33e96",
   "metadata": {},
   "source": [
    "<font face='Calibri' size='2'> <i>eSBAE - Notebook Series - Part 4, version 0.1, April 2023. Andreas Vollrath, UN-Food and Agricultural Organization, Rome</i>\n",
    "</font>"
   ]
  },
  {
   "cell_type": "markdown",
   "id": "c5b64a68-7429-427e-9eb9-fcb16d592cef",
   "metadata": {
    "tags": []
   },
   "source": [
    "![titre](images/header.png)\n",
    "\n",
    "# IV - Augmentation des données eSBAE\n",
    "### Exécutez divers algorithmes de détection de changement sur des données de séries chronologiques précédemment extraites\n",
    "-------\n",
    "\n",
    "Ce bloc-notes vous guide tout au long du processus d'exécution de divers algorithmes de détection de modification pour un ensemble de points à l'aide de [Google's Earth Engine](https://earthengine.google.com/) ainsi que des routines Python. Le script est optimisé pour traiter des milliers de points et utilisera la parallélisation pour extraire efficacement les informations de la plateforme.\n",
    "\n",
    "**Vous aurez besoin de**:\n",
    "- un compte Earth Engine valide ([inscrivez-vous ici](https://code.earthengine.google.com/register))\n",
    "- avoir exécuté avec succès le Notebook 3 de la série de notebooks eSBAE\n",
    "\n",
    "**Ce notebook fonctionne mieux sur une instance m16**"
   ]
  },
  {
   "cell_type": "markdown",
   "id": "2d7ce21b-de4f-425f-8966-34e83ca7cb08",
   "metadata": {},
   "source": [
    "### 1 - Importer des bibliothèques (*exécuter uniquement cette cellule*)\n",
    "\n",
    "Cette cellule nous fournira les fonctionnalités dont nous avons besoin pour exécuter les cellules suivantes du notebook."
   ]
  },
  {
   "cell_type": "code",
   "execution_count": 1,
   "id": "97ab0346-577d-4a97-a5aa-31e45d1aa944",
   "metadata": {
    "tags": []
   },
   "outputs": [
    {
     "name": "stderr",
     "output_type": "stream",
     "text": [
      "/usr/local/share/jupyter/kernels/venv-eSBAE_notebooks/venv/lib/python3.8/site-packages/bfast/__init__.py:10: UserWarning: cupy is not available in this environment, GPU fonctionnalities won't be available\n",
      "  warn(\"cupy is not available in this environment, GPU fonctionnalities won't be available\")\n"
     ]
    }
   ],
   "source": [
    "# initialize EE    \n",
    "import ee\n",
    "try:\n",
    "    ee.Initialize(opt_url='https://earthengine-highvolume.googleapis.com')\n",
    "except:\n",
    "    ee.Authenticate()\n",
    "    ee.Initialize(opt_url='https://earthengine-highvolume.googleapis.com')\n",
    "    \n",
    "from sampling_handler import DataAugmentation"
   ]
  },
  {
   "cell_type": "markdown",
   "id": "1a548371-680f-419d-aa74-7f1531dd9f19",
   "metadata": {
    "tags": []
   },
   "source": [
    "### 2 - Définitions de la période"
   ]
  },
  {
   "cell_type": "code",
   "execution_count": 2,
   "id": "cc9b2066-0522-4871-b0f1-c974f1c998e4",
   "metadata": {
    "tags": []
   },
   "outputs": [
    {
     "name": "stdout",
     "output_type": "stream",
     "text": [
      "INFO: Using existing project directory at /home/sepal-user/module_results/esbae/esbae_congo\n",
      "INFO: Using existent config file from project directory /home/sepal-user/module_results/esbae/esbae_congo\n"
     ]
    }
   ],
   "source": [
    "# Directory where output and temp files will go\n",
    "esbae = DataAugmentation(\n",
    "    \n",
    "    # your project name, as set in previous notebooks\n",
    "    project_name = 'esbae_congo',\n",
    "\n",
    "    # start of calibration period (mainly for bfast)\n",
    "    calibration_start = '2015-01-01',  # YYYY-MM-DD format\n",
    "\n",
    "    # Actual period of interest, i.e. monitoring period\n",
    "    monitor_start =  '2020-01-01',  # YYYY-MM-DD format\n",
    "    monitor_end   =  '2023-01-01',  # YYYY-MM-DD format\n",
    "\n",
    "    # select the band for univariate ts-analysis (has to be inside bands list)\n",
    "    ts_band = 'ndfi'\n",
    ")"
   ]
  },
  {
   "cell_type": "markdown",
   "id": "26756c74-adc4-419e-8275-830f20950918",
   "metadata": {},
   "source": [
    "### 3- Paramètres de base"
   ]
  },
  {
   "cell_type": "code",
   "execution_count": 3,
   "id": "baceb4a8-f516-44c4-b137-b9f93045d919",
   "metadata": {
    "tags": []
   },
   "outputs": [],
   "source": [
    "# select basic pre-processing options\n",
    "esbae.outlier_removal =     True\n",
    "esbae.smooth_ts =           True\n",
    "\n",
    "# Select the algorithms to run\n",
    "esbae.run_cusum =           True\n",
    "esbae.run_bfast =           True\n",
    "esbae.run_ts_metrics =      True\n",
    "esbae.run_bs_slope =        True\n",
    "esbae.run_jrc_nrt =         True\n",
    "esbae.run_ccdc =            True\n",
    "esbae.run_land_trendr =     False     # not yet implemented\n",
    "esbae.run_global_products = True"
   ]
  },
  {
   "cell_type": "markdown",
   "id": "90323e10-ebc2-420e-ae40-310e9739ef44",
   "metadata": {
    "tags": []
   },
   "source": [
    "### 4- Paramètres avancés"
   ]
  },
  {
   "cell_type": "code",
   "execution_count": 4,
   "id": "62c5c84a-907b-4dd1-96bf-ef7227620fbf",
   "metadata": {},
   "outputs": [],
   "source": [
    "esbae.bfast = {\n",
    "    'run': esbae.run_bfast,\n",
    "    'start_monitor': esbae.monitor_start,\n",
    "    'freq': 365,\n",
    "    'k': 3,\n",
    "    'hfrac': 0.25,\n",
    "    'trend': True,\n",
    "    'level': 0.05,\n",
    "    'backend': 'python'\n",
    "}\n",
    "\n",
    "esbae.cusum = {\n",
    "    'run': esbae.run_cusum,\n",
    "    'nr_of_bootstraps': 1000\n",
    "}\n",
    "\n",
    "esbae.bs_slope = {\n",
    "    'run': esbae.run_bs_slope,\n",
    "    'nr_of_bootstraps': 1000\n",
    "}\n",
    "\n",
    "esbae.ts_metrics = {\n",
    "    'run': esbae.run_ts_metrics,\n",
    "    'bands': ['red', 'nir', 'swir1', 'swir2', 'ndfi', 'brightness', 'greenness', 'wetness'],\n",
    "    'metrics': ['mean', 'stddev', 'min', 'max'],  # DO NOT CHANGE YET\n",
    "    'outlier_removal': False,\n",
    "    'z_threshhold': 3\n",
    "}\n",
    "\n",
    "esbae.ccdc = {\n",
    "    'run': esbae.run_ccdc,\n",
    "    'breakpointBands': ['green', 'red', 'nir', 'swir1', 'swir2'],\n",
    "    'tmaskBands': ['green', 'swir2'],\n",
    "    'minObservations': 6,\n",
    "    'chiSquareProbability': 0.99,\n",
    "    'minNumOfYearsScaler': 1,\n",
    "    'dateFormat': 2,\n",
    "    'lambda': 20,\n",
    "    'maxIterations': 1000\n",
    "}\n",
    "\n",
    "esbae.land_trendr = {\n",
    "    'run': esbae.run_land_trendr,\n",
    "    'maxSegments': 6,\n",
    "    'spikeThreshold': 0.9,\n",
    "    'vertexCountOvershoot': 3,\n",
    "    'preventOneYearRecovery': True,\n",
    "    'recoveryThreshold': 0.25,\n",
    "    'pvalThreshold': 0.05,\n",
    "    'bestModelProportion': 0.75,\n",
    "    'minObservationsNeeded': 3\n",
    "}\n",
    "\n",
    "esbae.jrc_nrt = {\n",
    "    'run': esbae.run_jrc_nrt\n",
    "}\n",
    "\n",
    "esbae.global_products = {\n",
    "    'run': esbae.run_global_products,\n",
    "    'gfc': True,\n",
    "    'tmf': True,\n",
    "    'tmf_years': True,\n",
    "    'esa_lc20': True,\n",
    "    'copernicus_lc': True,\n",
    "    'esri_lc': True,\n",
    "    'lang_tree_height': True,\n",
    "    'potapov_tree_height': True,\n",
    "    'elevation': True,\n",
    "    'dynamic_world_tree_prob': True,\n",
    "    'dynamic_world_class_mode': True\n",
    "}\n",
    "\n",
    "esbae.py_workers = 100\n",
    "esbae.ee_workers = 20"
   ]
  },
  {
   "cell_type": "markdown",
   "id": "0b28743c-e512-4c3e-8907-83b0b4385d95",
   "metadata": {},
   "source": [
    "### 5 - Exécutez l'augmentation des données"
   ]
  },
  {
   "cell_type": "code",
   "execution_count": 5,
   "id": "c6a92940-b2ae-4640-9287-3ffcdd13be4a",
   "metadata": {
    "tags": []
   },
   "outputs": [
    {
     "name": "stdout",
     "output_type": "stream",
     "text": [
      "INFO: Verifying parameter settings...\n",
      "INFO: Initializing data augmentation routine...\n",
      "INFO: Accumulating batch files of 1/1...\n",
      "INFO: Running the data augmentation routines on 3570 points...\n",
      "INFO: Cleaning the time-series from outliers.\n",
      "INFO: Outlier removal finished in: 0:00:07.839647\n",
      "INFO: Smoothing the time-series with a rolling mean.\n",
      "INFO: Time-series smoothing finished in: 0:00:12.885177\n",
      "INFO: Creating a subset of the time-series according to the analysis period.\n",
      "INFO: Time-series subsetting finished in: 0:00:02.442055\n",
      "INFO: Running CCDC\n",
      "INFO: Running the B-FAST algorithm on current batch of points.\n",
      "INFO: BFAST finished in: 0:00:04.827528\n",
      "INFO: Running the CuSum algorithm on current batch of points.\n",
      "INFO: CuSum finished in: 0:00:37.311171\n",
      "INFO: Running the time-scan on current batch of points.\n",
      "INFO: Time-scan metrics for band red finished in: 0:00:01.814901\n",
      "INFO: Time-scan metrics for band nir finished in: 0:00:02.655914\n",
      "INFO: Time-scan metrics for band swir1 finished in: 0:00:03.280809\n",
      "INFO: Time-scan metrics for band swir2 finished in: 0:00:03.044312\n",
      "INFO: Time-scan metrics for band ndfi finished in: 0:00:01.793735\n",
      "INFO: Time-scan metrics for band brightness finished in: 0:00:03.482977\n",
      "INFO: Time-scan metrics for band greenness finished in: 0:00:02.016278\n",
      "INFO: Time-scan metrics for band wetness finished in: 0:00:02.813946\n",
      "INFO: Running the slope (trend) analysis on current batch of points.\n",
      "INFO: Slope (trend) analysis finished in: 0:00:42.168491\n",
      "INFO: Running EWMA, MoSUm, CuSum from JRC NRT package\n",
      "INFO: JRC NRT algorithms finished in: 0:00:15.539367\n",
      "INFO: Running CCDC finished in: 0:04:00.624076\n",
      "INFO: Extracting global products\n",
      "INFO: Extraction of global products finished in: 0:02:36.413864\n",
      "INFO: Dump results table to output file...\n",
      "INFO: Batch 1/1 finished in: : 0:07:34.128349\n",
      "INFO: Data augmentation finished...\n"
     ]
    }
   ],
   "source": [
    "esbae.augment()"
   ]
  },
  {
   "cell_type": "code",
   "execution_count": null,
   "id": "a742d32f-cf0a-4852-97d8-598f2c21069a",
   "metadata": {},
   "outputs": [],
   "source": []
  }
 ],
 "metadata": {
  "kernelspec": {
   "display_name": " (venv) Sample Based Area Estimation",
   "language": "python",
   "name": "venv-esbae_notebooks"
  },
  "language_info": {
   "codemirror_mode": {
    "name": "ipython",
    "version": 3
   },
   "file_extension": ".py",
   "mimetype": "text/x-python",
   "name": "python",
   "nbconvert_exporter": "python",
   "pygments_lexer": "ipython3",
   "version": "3.8.10"
  }
 },
 "nbformat": 4,
 "nbformat_minor": 5
}
